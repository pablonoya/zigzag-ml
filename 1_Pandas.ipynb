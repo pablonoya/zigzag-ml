{
 "cells": [
  {
   "cell_type": "code",
   "execution_count": null,
   "id": "unsigned-washer",
   "metadata": {
    "jupyter": {
     "source_hidden": true
    }
   },
   "outputs": [],
   "source": [
    "! mkdir -p datasets\n",
    "%cd datasets\n",
    "! wget -nc https://raw.githubusercontent.com/pablonoya/zigzag-ml/master/datasets/panel_data.csv\n",
    "%cd .."
   ]
  },
  {
   "cell_type": "markdown",
   "id": "thousand-major",
   "metadata": {},
   "source": [
    "# ¿Pandas? 🐼🐼\n",
    "Es una **librería** de Python que permite manejar **datos tabulares**, el nombre deriva de *panel datas*, un tipo de tabla que muestra datos sobre mediciones a lo largo del tiempo.\n",
    "\n",
    "|persona | año | ingreso | edad |\n",
    "|--------|-----|---------|------|\n",
    "| 1 | 2010 | 1300  | 22  |\n",
    "| 1 | 2011  | 1450  | 23 |\n",
    "| 2 | 2009  | 2300  | 25  |\n",
    "| 3 | 2010  | 2600  | 27  |\n",
    "\n",
    "\n",
    "Cuenta con funciones para leer tablas, analizarlas, seleccionar columnas, realizar limpieza de datos y transformaciones con estos 🤯.  \n",
    "Operaciones imprescindibles cuando queremos que la máquina aprenda de los datos 😉."
   ]
  },
  {
   "cell_type": "markdown",
   "id": "lightweight-accident",
   "metadata": {},
   "source": [
    "# Comma-separated values\n",
    "El **formato** más extendido para almacenar datos tabulares es ~~excel~~ **.csv**, este es un archivo de texto plano que describe **cada fila en una linea** de texto y **separa las columnas por comas** (sin espacios).\n",
    "La **primera fila es el encabezado**, contiene los nombres de cada columna, las siguientes filas contienen los datos.\n",
    "\n",
    "Para nuestra tabla, el archivo .csv tiene este formato:\n",
    "\n",
    "```\n",
    "persona,año,ingreso,edad\n",
    "1,2010,1300,22\n",
    "1,2010,1450,23\n",
    " ...\n",
    "```\n",
    "Esto nos permite almacenar grandes cantidades de datos de forma fácil y sin que ocupen demasiado espacio, pero no son sencillos de manejar si los tratamos como texto plano. ☹️"
   ]
  },
  {
   "cell_type": "markdown",
   "id": "promising-syndication",
   "metadata": {},
   "source": [
    "# Cargando csv\n",
    "La función `pandas.read_csv` nos permite leer archivos, esta retorna un objeto de tipo *DataFrame* el cual también contiene un índice y tiene métodos como `head` que nos permite ver las **primeras filas** de la tabla, por defecto nos mostrará cinco."
   ]
  },
  {
   "cell_type": "code",
   "execution_count": null,
   "id": "coated-computer",
   "metadata": {},
   "outputs": [],
   "source": [
    "import pandas as pd\n",
    "\n",
    "data = pd.read_csv('./datasets/panel_data.csv')\n",
    "type(data)"
   ]
  },
  {
   "cell_type": "code",
   "execution_count": null,
   "id": "communist-verification",
   "metadata": {},
   "outputs": [],
   "source": [
    "data.head()"
   ]
  },
  {
   "cell_type": "markdown",
   "id": "weighted-union",
   "metadata": {},
   "source": [
    "Podemos escoger el **número** de filas que nos mostrará mandando un entero como argumento"
   ]
  },
  {
   "cell_type": "code",
   "execution_count": null,
   "id": "racial-glory",
   "metadata": {},
   "outputs": [],
   "source": [
    "data.head(3)"
   ]
  },
  {
   "cell_type": "markdown",
   "id": "activated-moldova",
   "metadata": {},
   "source": [
    "# Manipulando DataFrames\n",
    "Estos objetos ya cuentan con los métodos necesarios para las operaciones que necesitamos, podemos generar un **resumen** de esta tabla utilizando el método `info`."
   ]
  },
  {
   "cell_type": "code",
   "execution_count": null,
   "id": "assisted-willow",
   "metadata": {},
   "outputs": [],
   "source": [
    "data.info()"
   ]
  },
  {
   "cell_type": "markdown",
   "id": "compressed-purple",
   "metadata": {},
   "source": [
    "Este resumen muestra **cuántos** datos tenemos, si tenemos datos **nulos** y el **tipo de dato** o 'dtype' de cada columna.\n",
    "Para esta tabla, no tenemos datos nulos, y todas las columnas tienen enteros."
   ]
  },
  {
   "cell_type": "markdown",
   "id": "vanilla-african",
   "metadata": {},
   "source": [
    "## Columnas\n",
    "Podemos **manipular** las columnas como si tuviéramos un **diccionario**, esta operación nos devuelve un objeto *Series*, por lo que también nos mostrará un índice y el *dtype* de la columna al imprimirlo. Adicionalmente, podemos pasar una **lista** de nombres de columnas, intenta pasar algunas 😃"
   ]
  },
  {
   "cell_type": "code",
   "execution_count": null,
   "id": "ongoing-bullet",
   "metadata": {},
   "outputs": [],
   "source": [
    "columna = \"edad\"\n",
    "\n",
    "print(data[columna])\n",
    "type(data[columna])"
   ]
  },
  {
   "cell_type": "markdown",
   "id": "beginning-monster",
   "metadata": {},
   "source": [
    "De la misma manera podemos **definir nuevas columnas** de manera dinámica.  \n",
    "Si deseamos almacenar el ingreso en miles en vez de unidades podríamos utilizar el siguiente código:"
   ]
  },
  {
   "cell_type": "code",
   "execution_count": null,
   "id": "finite-experiment",
   "metadata": {},
   "outputs": [],
   "source": [
    "data[\"ingreso_en_miles\"] = data[\"ingreso\"] / 1000\n",
    "\n",
    "data.info()"
   ]
  },
  {
   "cell_type": "markdown",
   "id": "dried-terrace",
   "metadata": {},
   "source": [
    "Si deseamos eliminar la columna original utilizamos el método `drop` el argumento `axis=\"columns\"` indica que eliminaremos una columna."
   ]
  },
  {
   "cell_type": "code",
   "execution_count": null,
   "id": "automatic-oracle",
   "metadata": {},
   "outputs": [],
   "source": [
    "data.drop('ingreso', axis=\"columns\")"
   ]
  },
  {
   "cell_type": "markdown",
   "id": "southeast-documentary",
   "metadata": {},
   "source": [
    "Por defecto `drop` no altera la variable original, en su lugar, retorna una copia con los cambios. Esto puede ser útil para evitar borrones no deseados."
   ]
  },
  {
   "cell_type": "code",
   "execution_count": null,
   "id": "constant-permit",
   "metadata": {},
   "outputs": [],
   "source": [
    "data.head()"
   ]
  },
  {
   "cell_type": "markdown",
   "id": "respected-adrian",
   "metadata": {},
   "source": [
    "Si deseamos **alterar la instancia original**, debemos añadir el argumento `inplace=True` a la función `drop`, inténtalo en la celda de más arriba 😉"
   ]
  },
  {
   "cell_type": "markdown",
   "id": "funky-insulin",
   "metadata": {},
   "source": [
    "## Filas\n",
    "Para leer filas podemos usar el **índice**, pero debe ser junto al atributo `iloc`, este también nos permite **manipularlo como matriz**, para tener acceso de la forma **\\[fila\\]\\[columna\\]** o bien **\\[fila, columna\\]**\n",
    "\n",
    "Tambien podemos usar *slicing* para definir rangos, prueba definiendo alguno 😎"
   ]
  },
  {
   "cell_type": "code",
   "execution_count": null,
   "id": "daily-prayer",
   "metadata": {},
   "outputs": [],
   "source": [
    "fila = 2\n",
    "print(data.iloc[fila])"
   ]
  },
  {
   "cell_type": "code",
   "execution_count": null,
   "id": "precise-needle",
   "metadata": {},
   "outputs": [],
   "source": [
    "fila, columna = 2, 2\n",
    "print(data.iloc[fila][columna])\n",
    "print(data.iloc[fila, columna])"
   ]
  },
  {
   "cell_type": "markdown",
   "id": "nasty-teens",
   "metadata": {},
   "source": [
    "## Filtrando filas\n",
    "Una de las operaciones más curiosas es pasar una **lista de booleanos como índice**, esta debe tener el **número de filas** del *DataFrame*, podemos obtener este dato usando la función `len` sobre el mismo."
   ]
  },
  {
   "cell_type": "code",
   "execution_count": null,
   "id": "confident-instruction",
   "metadata": {},
   "outputs": [],
   "source": [
    "num_filas = len(data)\n",
    "indices_bool = [True] * num_filas\n",
    "indices_bool[2] = False\n",
    "\n",
    "data[indices_bool]"
   ]
  },
  {
   "cell_type": "markdown",
   "id": "geographic-conflict",
   "metadata": {},
   "source": [
    "0, 1, 3, 4, ... ¡Falta la fila con índice 2! 😰  \n",
    "Y aprovecharemos eso para **filtrar** las filas 😎 si escribimos una **condición** con alguna columna del *DataFrame*..."
   ]
  },
  {
   "cell_type": "code",
   "execution_count": null,
   "id": "everyday-invasion",
   "metadata": {},
   "outputs": [],
   "source": [
    "data['edad'] > 23"
   ]
  },
  {
   "cell_type": "markdown",
   "id": "unavailable-airline",
   "metadata": {},
   "source": [
    "Obtendremos una *Series* de booleanos, la cual también podemos usar como índice para filtrar 😎"
   ]
  },
  {
   "cell_type": "code",
   "execution_count": null,
   "id": "paperback-vacation",
   "metadata": {},
   "outputs": [],
   "source": [
    "condicion = data['edad'] > 23\n",
    "data[condicion]"
   ]
  },
  {
   "cell_type": "markdown",
   "id": "million-fraction",
   "metadata": {},
   "source": [
    "Si quieres usar **varias condiciones**, debes utilizar los operadores lógicos `&` y `|` además de encerrar las condiciones en paréntesis"
   ]
  },
  {
   "cell_type": "code",
   "execution_count": null,
   "id": "heard-facility",
   "metadata": {},
   "outputs": [],
   "source": [
    "condicion = (data['edad'] > 23) & (data['año'] > 2010)\n",
    "data[condicion]"
   ]
  },
  {
   "cell_type": "markdown",
   "id": "pacific-burden",
   "metadata": {},
   "source": [
    "No es la forma más cómoda de escribirlas, pero existe una mejor, utilizando el método `query` podemos declarar las **condiciones como una cadena**."
   ]
  },
  {
   "cell_type": "code",
   "execution_count": null,
   "id": "wired-optimum",
   "metadata": {},
   "outputs": [],
   "source": [
    "data.query(\"edad > 23 & año > 2010\")"
   ]
  },
  {
   "cell_type": "markdown",
   "id": "cleared-fever",
   "metadata": {},
   "source": [
    "Estas serían las operaciones más básicas para manejar tablas en pandas 🐼  \n",
    "Continuemos con el [\"Hola mundo\" del Machine Learning](2_hola_mundo.ipynb)"
   ]
  },
  {
   "cell_type": "code",
   "execution_count": null,
   "id": "acquired-battery",
   "metadata": {},
   "outputs": [],
   "source": []
  }
 ],
 "metadata": {
  "kernelspec": {
   "display_name": "Python 3",
   "language": "python",
   "name": "python3"
  },
  "language_info": {
   "codemirror_mode": {
    "name": "ipython",
    "version": 3
   },
   "file_extension": ".py",
   "mimetype": "text/x-python",
   "name": "python",
   "nbconvert_exporter": "python",
   "pygments_lexer": "ipython3",
   "version": "3.7.7"
  }
 },
 "nbformat": 4,
 "nbformat_minor": 5
}
