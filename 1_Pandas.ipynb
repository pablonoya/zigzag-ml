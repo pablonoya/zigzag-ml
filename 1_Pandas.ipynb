{
 "cells": [
  {
   "cell_type": "code",
   "execution_count": null,
   "id": "cross-level",
   "metadata": {
    "tags": []
   },
   "outputs": [],
   "source": [
    "! mkdir -p datasets\n",
    "%cd datasets\n",
    "! wget -nc https://raw.githubusercontent.com/pablonoya/zigzag-ml/master/datasets/panel_data.csv\n",
    "%cd .."
   ]
  },
  {
   "cell_type": "markdown",
   "id": "lesbian-strip",
   "metadata": {},
   "source": [
    "# ¿Pandas? 🐼🐼\n",
    "Es una **librería** de Python que permite manejar **datos tabulares**, el nombre deriva de *panel datas*, un tipo de tabla que muestra datos sobre mediciones a lo largo del tiempo.\n",
    "\n",
    "|persona | año | ingreso | edad |\n",
    "|--------|-----|---------|------|\n",
    "| 1 | 2010 | 1300  | 22  |\n",
    "| 1 | 2011  | 1450  | 23 |\n",
    "| 2 | 2009  | 2300  | 25  |\n",
    "| 3 | 2010  | 2600  | 27  |\n",
    "\n",
    "\n",
    "Cuenta con funciones para leer tablas, analizarlas, seleccionar columnas, realizar limpieza de datos y transformaciones con estos 🤯.  \n",
    "Operaciones imprescindibles cuando queremos que la máquina aprenda de los datos 😉."
   ]
  },
  {
   "cell_type": "markdown",
   "id": "random-integral",
   "metadata": {},
   "source": [
    "# Comma-separated values\n",
    "El **formato** más extendido para almacenar datos tabulares es ~~excel~~ **.csv**, este es un archivo de texto plano que describe **cada fila en una linea** de texto y **separa las columnas por comas** (sin espacios). La **primera fila es el encabezado**, contiene los nombres de cada columna, las siguientes filas contienen los datos.\n",
    "\n",
    "Para nuestra tabla, el archivo .csv tiene este formato:\n",
    "\n",
    "```\n",
    "persona,año,ingreso,edad\n",
    "1,2010,1300,22\n",
    "1,2010,1450,23\n",
    " ...\n",
    "```\n",
    "Esto nos permite almacenar grandes cantidades de datos de forma fácil y sin que ocupen demasiado espacio, pero no son sencillos de manejar si los tratamos como texto plano ☹️."
   ]
  },
  {
   "cell_type": "markdown",
   "id": "geological-guatemala",
   "metadata": {},
   "source": [
    "# Cargando csv\n",
    "La función `pandas.read_csv` nos permite leer archivos, esta recibe una cadena con el **directorio** donde está el archivo, y retorna un objeto de tipo *DataFrame* el cual también contiene un índice y tiene métodos como `head` que nos permite ver las **primeras filas** de la tabla, por defecto nos mostrará cinco."
   ]
  },
  {
   "cell_type": "code",
   "execution_count": null,
   "id": "advised-weather",
   "metadata": {},
   "outputs": [],
   "source": [
    "import pandas as pd\n",
    "\n",
    "data = pd.read_csv('./datasets/panel_data.csv')\n",
    "type(data)"
   ]
  },
  {
   "cell_type": "code",
   "execution_count": null,
   "id": "legislative-bridge",
   "metadata": {},
   "outputs": [],
   "source": [
    "data.head()"
   ]
  },
  {
   "cell_type": "markdown",
   "id": "ambient-vegetable",
   "metadata": {},
   "source": [
    "Podemos escoger el **número** de filas que nos mostrará mandando un entero como argumento"
   ]
  },
  {
   "cell_type": "code",
   "execution_count": null,
   "id": "naval-prairie",
   "metadata": {},
   "outputs": [],
   "source": [
    "data.head(3)"
   ]
  },
  {
   "cell_type": "markdown",
   "id": "moderate-recommendation",
   "metadata": {},
   "source": [
    "# Mirando DataFrames\n",
    "Estos objetos ya cuentan con los métodos necesarios para las operaciones que necesitamos, además de métodos que nos proporcionan información sobre el mismo, por ejemplo, podemos generar un **resumen** de esta tabla utilizando el método `info`."
   ]
  },
  {
   "cell_type": "code",
   "execution_count": null,
   "id": "periodic-horse",
   "metadata": {},
   "outputs": [],
   "source": [
    "data.info()"
   ]
  },
  {
   "cell_type": "markdown",
   "id": "thorough-venture",
   "metadata": {},
   "source": [
    "Este resumen muestra **cuántos** datos tenemos, si tenemos datos **nulos** y el **tipo de dato** o 'dtype' de cada columna.\n",
    "Para esta tabla, no tenemos datos nulos, y todas las columnas tienen enteros.\n",
    "\n",
    "También podemos obtener algunos datos estadísticos con el método `describe`"
   ]
  },
  {
   "cell_type": "code",
   "execution_count": null,
   "id": "thousand-original",
   "metadata": {},
   "outputs": [],
   "source": [
    "data.describe()"
   ]
  },
  {
   "cell_type": "markdown",
   "id": "genetic-spouse",
   "metadata": {},
   "source": [
    "Y verificar si contamos con elementos vacíos con el método `isna` este mostrará verdadero o falso según sea el caso."
   ]
  },
  {
   "cell_type": "code",
   "execution_count": null,
   "id": "abstract-friday",
   "metadata": {},
   "outputs": [],
   "source": [
    "data.isna()"
   ]
  },
  {
   "cell_type": "markdown",
   "id": "institutional-table",
   "metadata": {},
   "source": [
    "Los cuales podemos eliminar con el método `dropna` en nuestro caso no temos elementos vacíos, por lo que la tabla no cambiará."
   ]
  },
  {
   "cell_type": "code",
   "execution_count": null,
   "id": "outdoor-visitor",
   "metadata": {},
   "outputs": [],
   "source": [
    "data = data.dropna()\n",
    "data.head()"
   ]
  },
  {
   "cell_type": "markdown",
   "id": "virgin-hopkins",
   "metadata": {},
   "source": [
    "## Columnas\n",
    "Podemos **manipular** las columnas como si tuviéramos un **diccionario**, esta operación nos devuelve un objeto *Series*, por lo que también nos mostrará un índice y el *dtype* de la columna al imprimirlo. Adicionalmente, podemos pasar una **lista** de nombres de columnas, intenta pasar algunas 😃"
   ]
  },
  {
   "cell_type": "code",
   "execution_count": null,
   "id": "stock-telescope",
   "metadata": {},
   "outputs": [],
   "source": [
    "columna = \"edad\"\n",
    "\n",
    "print(data[columna])\n",
    "type(data[columna])"
   ]
  },
  {
   "cell_type": "markdown",
   "id": "hired-walker",
   "metadata": {},
   "source": [
    "De la misma manera podemos **definir nuevas columnas** de manera dinámica.  \n",
    "Si deseamos almacenar el ingreso en miles en vez de unidades podríamos utilizar el siguiente código:"
   ]
  },
  {
   "cell_type": "code",
   "execution_count": null,
   "id": "closing-share",
   "metadata": {},
   "outputs": [],
   "source": [
    "data[\"ingreso_en_miles\"] = data[\"ingreso\"] / 1000\n",
    "\n",
    "data.info()"
   ]
  },
  {
   "cell_type": "markdown",
   "id": "weird-footwear",
   "metadata": {},
   "source": [
    "Si deseamos eliminar la columna original utilizamos el método `drop` el argumento `axis=\"columns\"` indica que eliminaremos una columna."
   ]
  },
  {
   "cell_type": "code",
   "execution_count": null,
   "id": "placed-calvin",
   "metadata": {},
   "outputs": [],
   "source": [
    "data.drop('ingreso', axis=\"columns\")"
   ]
  },
  {
   "cell_type": "markdown",
   "id": "powered-humidity",
   "metadata": {},
   "source": [
    "Por defecto `drop` no altera la variable original, en su lugar, retorna una copia con los cambios. Esto puede ser útil para evitar borrones no deseados."
   ]
  },
  {
   "cell_type": "code",
   "execution_count": null,
   "id": "least-arrangement",
   "metadata": {},
   "outputs": [],
   "source": [
    "data.head()"
   ]
  },
  {
   "cell_type": "markdown",
   "id": "restricted-phoenix",
   "metadata": {},
   "source": [
    "Si deseamos **alterar la instancia original**, debemos añadir el argumento `inplace=True` a la función `drop`, inténtalo en la celda de más arriba 😉"
   ]
  },
  {
   "cell_type": "markdown",
   "id": "residential-focus",
   "metadata": {},
   "source": [
    "## Filas\n",
    "Para leer filas podemos usar el **índice**, pero debe ser junto al atributo `iloc`, este también nos permite **manipularlo como matriz**, para tener acceso de la forma **\\[fila\\]\\[columna\\]** o bien **\\[fila, columna\\]**\n",
    "\n",
    "Tambien podemos usar *slicing* para definir rangos, prueba definiendo alguno 😎"
   ]
  },
  {
   "cell_type": "code",
   "execution_count": null,
   "id": "furnished-monkey",
   "metadata": {},
   "outputs": [],
   "source": [
    "fila = 2\n",
    "print(data.iloc[fila])"
   ]
  },
  {
   "cell_type": "code",
   "execution_count": null,
   "id": "behind-proxy",
   "metadata": {},
   "outputs": [],
   "source": [
    "fila, columna = 2, 2\n",
    "print(data.iloc[fila][columna])\n",
    "print(data.iloc[fila, columna])"
   ]
  },
  {
   "cell_type": "markdown",
   "id": "related-mambo",
   "metadata": {},
   "source": [
    "## Filtrando filas\n",
    "Una de las operaciones más curiosas es pasar una **lista de booleanos como índice**, esta debe tener el **número de filas** del *DataFrame*, podemos obtener este dato usando la función `len` sobre el mismo."
   ]
  },
  {
   "cell_type": "code",
   "execution_count": null,
   "id": "chronic-advertiser",
   "metadata": {},
   "outputs": [],
   "source": [
    "num_filas = len(data)\n",
    "indices_bool = [True] * num_filas\n",
    "indices_bool[2] = False\n",
    "\n",
    "data[indices_bool]"
   ]
  },
  {
   "cell_type": "markdown",
   "id": "retained-variety",
   "metadata": {},
   "source": [
    "0, 1, 3, 4, ... ¡Falta la fila con índice 2! 😰  \n",
    "Y aprovecharemos eso para **filtrar** las filas 😎 si escribimos una **condición** con alguna columna del *DataFrame*..."
   ]
  },
  {
   "cell_type": "code",
   "execution_count": null,
   "id": "given-replacement",
   "metadata": {},
   "outputs": [],
   "source": [
    "data['edad'] > 23"
   ]
  },
  {
   "cell_type": "markdown",
   "id": "marked-accused",
   "metadata": {},
   "source": [
    "Obtendremos una *Series* de booleanos, la cual también podemos usar como índice para filtrar 😎."
   ]
  },
  {
   "cell_type": "code",
   "execution_count": null,
   "id": "bronze-deficit",
   "metadata": {},
   "outputs": [],
   "source": [
    "condicion = data['edad'] > 23\n",
    "data[condicion]"
   ]
  },
  {
   "cell_type": "markdown",
   "id": "spatial-repository",
   "metadata": {},
   "source": [
    "Si quieres usar **varias condiciones**, debes utilizar los operadores lógicos `&` y `|`, que corresponden a `and` y `or` en Python, pero no podemos usar esas sentencias ☹️. Además, debes encerrar las condiciones en paréntesis."
   ]
  },
  {
   "cell_type": "code",
   "execution_count": null,
   "id": "twenty-escape",
   "metadata": {},
   "outputs": [],
   "source": [
    "condicion = (data['edad'] > 23) & (data['año'] > 2010)\n",
    "data[condicion]"
   ]
  },
  {
   "cell_type": "markdown",
   "id": "every-grill",
   "metadata": {},
   "source": [
    "No es la forma más cómoda de escribirlas, pero existe una mejor, utilizando el método `query` podemos declarar las **condiciones como una cadena**."
   ]
  },
  {
   "cell_type": "code",
   "execution_count": null,
   "id": "unusual-ecuador",
   "metadata": {},
   "outputs": [],
   "source": [
    "data.query(\"edad > 23 & año > 2010\")"
   ]
  },
  {
   "cell_type": "markdown",
   "id": "diverse-seeking",
   "metadata": {},
   "source": [
    "# Ejercicios\n",
    "En algunas ocasiones, contaremos con columnas irrelevantes, como un identificador o nombres de personas.  \n",
    "¿Cómo evitamos cargarlas en un DataFrame? utiliza el archivo \"panel_data.csv\" para **evitar cargar la columna** \"persona\"."
   ]
  },
  {
   "cell_type": "code",
   "execution_count": null,
   "id": "skilled-equipment",
   "metadata": {},
   "outputs": [],
   "source": [
    "# recuerda haber cargado el dataset y mira la documentación\n"
   ]
  },
  {
   "cell_type": "markdown",
   "id": "exotic-council",
   "metadata": {},
   "source": [
    "Tener una tabla de verdaderos y falsos para verificar si existen valores nulos no es nada práctico.   \n",
    "¿Qué maneras se te ocurren para **contar valores nulos** en un dataset?"
   ]
  },
  {
   "cell_type": "code",
   "execution_count": null,
   "id": "quick-stomach",
   "metadata": {},
   "outputs": [],
   "source": [
    "# True puede ser 1 y False 0\n"
   ]
  },
  {
   "cell_type": "markdown",
   "id": "advance-concern",
   "metadata": {},
   "source": [
    "# Pandas listo\n",
    "Estas serían algunas de las operaciones más básicas para manejar tablas en pandas 🐼  \n",
    "Continuemos con el [\"Hola mundo\" del Machine Learning](2_hola_mundo.ipynb)"
   ]
  }
 ],
 "metadata": {
  "kernelspec": {
   "display_name": "Python 3",
   "language": "python",
   "name": "python3"
  },
  "language_info": {
   "codemirror_mode": {
    "name": "ipython",
    "version": 3
   },
   "file_extension": ".py",
   "mimetype": "text/x-python",
   "name": "python",
   "nbconvert_exporter": "python",
   "pygments_lexer": "ipython3",
   "version": "3.8.8"
  }
 },
 "nbformat": 4,
 "nbformat_minor": 5
}
