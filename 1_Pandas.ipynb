{
 "cells": [
  {
   "cell_type": "markdown",
   "id": "accessory-transmission",
   "metadata": {},
   "source": [
    "# ¿Pandas? 🐼🐼\n",
    "Es una librería de Python que permite manejar datos tabulares, el nombre deriva de *panel datas*, un tipo de tabla que muestra datos sobre mediciones a lo largo del tiempo\n",
    "\n",
    "|persona | año | ingreso | edad |\n",
    "|--------|-----|---------|------|\n",
    "| 1 | 2010 | 1300  | 22  |\n",
    "| 1 | 2011  | 1450  | 23 |\n",
    "| 2 | 2009  | 2300  | 25  |\n",
    "| 3 | 2010  | 2600  | 27  |\n",
    "\n",
    "\n",
    "Cuenta con funciones para leer tablas, analizarlas, seleccionar columnas, realizar limpieza de datos y transformaciones con estos 🤯.  \n",
    "Operaciones imprescindibles cuando queremos que la máquina aprenda de los datos 😉."
   ]
  },
  {
   "cell_type": "markdown",
   "id": "persistent-particular",
   "metadata": {},
   "source": [
    "# Comma-separated values\n",
    "El formato más extendido para almacenar datos tabulares es ~~excel~~ .csv, este es un archivo de texto plano cuya primera fila es el encabezado con el nombre de cada columna y las siguientes filas contienen los datos, para nuestra tabla anterior el archivo quedaría:\n",
    "\n",
    "```csv\n",
    "persona, año, ingreso, edad\n",
    "1, 2010, 1300, 22\n",
    "1, 2010, 1450, 23\n",
    "...\n",
    "```\n",
    "Esto nos permite almacenar grandes cantidades de datos de forma fácil y sin que ocupen demasiado espacio, pero no son sencillos de manejar si los tratamos como texto plano."
   ]
  },
  {
   "cell_type": "markdown",
   "id": "mysterious-sample",
   "metadata": {},
   "source": [
    "# Lee_csv\n",
    "La función `pandas.read_csv` nos permite leer archivos, esta retorna un objeto de tipo *DataFrame* el cual tiene métodos como `head` que nos permite ver las primeras filas de la tabla, por defecto mostrará cinco."
   ]
  },
  {
   "cell_type": "code",
   "execution_count": 5,
   "id": "animated-huntington",
   "metadata": {},
   "outputs": [
    {
     "data": {
      "text/plain": [
       "pandas.core.frame.DataFrame"
      ]
     },
     "execution_count": 5,
     "metadata": {},
     "output_type": "execute_result"
    }
   ],
   "source": [
    "import pandas as pd\n",
    "data = pd.read_csv('./datasets/panel_data.csv')\n",
    "type(data)"
   ]
  },
  {
   "cell_type": "code",
   "execution_count": 8,
   "id": "fitted-indie",
   "metadata": {},
   "outputs": [
    {
     "data": {
      "text/html": [
       "<div>\n",
       "<style scoped>\n",
       "    .dataframe tbody tr th:only-of-type {\n",
       "        vertical-align: middle;\n",
       "    }\n",
       "\n",
       "    .dataframe tbody tr th {\n",
       "        vertical-align: top;\n",
       "    }\n",
       "\n",
       "    .dataframe thead th {\n",
       "        text-align: right;\n",
       "    }\n",
       "</style>\n",
       "<table border=\"1\" class=\"dataframe\">\n",
       "  <thead>\n",
       "    <tr style=\"text-align: right;\">\n",
       "      <th></th>\n",
       "      <th>persona</th>\n",
       "      <th>año</th>\n",
       "      <th>ingreso</th>\n",
       "      <th>edad</th>\n",
       "    </tr>\n",
       "  </thead>\n",
       "  <tbody>\n",
       "    <tr>\n",
       "      <th>0</th>\n",
       "      <td>1</td>\n",
       "      <td>2010</td>\n",
       "      <td>1300</td>\n",
       "      <td>22</td>\n",
       "    </tr>\n",
       "    <tr>\n",
       "      <th>1</th>\n",
       "      <td>1</td>\n",
       "      <td>2010</td>\n",
       "      <td>1450</td>\n",
       "      <td>23</td>\n",
       "    </tr>\n",
       "    <tr>\n",
       "      <th>2</th>\n",
       "      <td>2</td>\n",
       "      <td>2009</td>\n",
       "      <td>2300</td>\n",
       "      <td>25</td>\n",
       "    </tr>\n",
       "    <tr>\n",
       "      <th>3</th>\n",
       "      <td>3</td>\n",
       "      <td>2010</td>\n",
       "      <td>2600</td>\n",
       "      <td>27</td>\n",
       "    </tr>\n",
       "    <tr>\n",
       "      <th>4</th>\n",
       "      <td>3</td>\n",
       "      <td>2011</td>\n",
       "      <td>2500</td>\n",
       "      <td>28</td>\n",
       "    </tr>\n",
       "  </tbody>\n",
       "</table>\n",
       "</div>"
      ],
      "text/plain": [
       "   persona   año   ingreso   edad\n",
       "0        1  2010      1300     22\n",
       "1        1  2010      1450     23\n",
       "2        2  2009      2300     25\n",
       "3        3  2010      2600     27\n",
       "4        3  2011      2500     28"
      ]
     },
     "execution_count": 8,
     "metadata": {},
     "output_type": "execute_result"
    }
   ],
   "source": [
    "data.head()"
   ]
  },
  {
   "cell_type": "markdown",
   "id": "relevant-tobago",
   "metadata": {},
   "source": [
    "Podemos escoger el número de filas que nos mostrará mandando un entero como argumento"
   ]
  },
  {
   "cell_type": "code",
   "execution_count": 9,
   "id": "rapid-victory",
   "metadata": {},
   "outputs": [
    {
     "data": {
      "text/html": [
       "<div>\n",
       "<style scoped>\n",
       "    .dataframe tbody tr th:only-of-type {\n",
       "        vertical-align: middle;\n",
       "    }\n",
       "\n",
       "    .dataframe tbody tr th {\n",
       "        vertical-align: top;\n",
       "    }\n",
       "\n",
       "    .dataframe thead th {\n",
       "        text-align: right;\n",
       "    }\n",
       "</style>\n",
       "<table border=\"1\" class=\"dataframe\">\n",
       "  <thead>\n",
       "    <tr style=\"text-align: right;\">\n",
       "      <th></th>\n",
       "      <th>persona</th>\n",
       "      <th>año</th>\n",
       "      <th>ingreso</th>\n",
       "      <th>edad</th>\n",
       "    </tr>\n",
       "  </thead>\n",
       "  <tbody>\n",
       "    <tr>\n",
       "      <th>0</th>\n",
       "      <td>1</td>\n",
       "      <td>2010</td>\n",
       "      <td>1300</td>\n",
       "      <td>22</td>\n",
       "    </tr>\n",
       "    <tr>\n",
       "      <th>1</th>\n",
       "      <td>1</td>\n",
       "      <td>2010</td>\n",
       "      <td>1450</td>\n",
       "      <td>23</td>\n",
       "    </tr>\n",
       "    <tr>\n",
       "      <th>2</th>\n",
       "      <td>2</td>\n",
       "      <td>2009</td>\n",
       "      <td>2300</td>\n",
       "      <td>25</td>\n",
       "    </tr>\n",
       "  </tbody>\n",
       "</table>\n",
       "</div>"
      ],
      "text/plain": [
       "   persona   año   ingreso   edad\n",
       "0        1  2010      1300     22\n",
       "1        1  2010      1450     23\n",
       "2        2  2009      2300     25"
      ]
     },
     "execution_count": 9,
     "metadata": {},
     "output_type": "execute_result"
    }
   ],
   "source": [
    "data.head(3)"
   ]
  },
  {
   "cell_type": "code",
   "execution_count": null,
   "id": "pediatric-portrait",
   "metadata": {},
   "outputs": [],
   "source": []
  }
 ],
 "metadata": {
  "kernelspec": {
   "display_name": "Python 3",
   "language": "python",
   "name": "python3"
  },
  "language_info": {
   "codemirror_mode": {
    "name": "ipython",
    "version": 3
   },
   "file_extension": ".py",
   "mimetype": "text/x-python",
   "name": "python",
   "nbconvert_exporter": "python",
   "pygments_lexer": "ipython3",
   "version": "3.7.7"
  }
 },
 "nbformat": 4,
 "nbformat_minor": 5
}
