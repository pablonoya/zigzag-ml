{
 "cells": [
  {
   "cell_type": "code",
   "execution_count": null,
   "metadata": {
    "jupyter": {
     "source_hidden": true
    },
    "tags": []
   },
   "outputs": [],
   "source": [
    "! mkdir -p datasets\n",
    "%cd datasets\n",
    "! wget -nc https://raw.githubusercontent.com/pablonoya/zigzag-ml/master/datasets/Iris_mod.csv\n",
    "! wget -nc https://raw.githubusercontent.com/pablonoya/zigzag-ml/master/datasets/housing.csv\n",
    "%cd .."
   ]
  },
  {
   "cell_type": "markdown",
   "metadata": {},
   "source": [
    "# Preprocesamiento de datos\n",
    "En el mundo real, los datos que obtengamos pueden ser erróneos porque estarán incompletos, duplicados o no se podrán usar tal cual, porque los algoritmos de *machine learning* usan **sólo números** 🔢.  \n",
    "\n",
    "Veremos cómo afrontar este tipo de situaciones con un nuevo dataset, el [Iris Dataset](https://www.kaggle.com/uciml/iris) de kaggle."
   ]
  },
  {
   "cell_type": "code",
   "execution_count": null,
   "metadata": {},
   "outputs": [],
   "source": [
    "import pandas as pd\n",
    "\n",
    "data_iris = pd.read_csv('./datasets/Iris_mod.csv')\n",
    "data_iris.head()"
   ]
  },
  {
   "cell_type": "markdown",
   "metadata": {},
   "source": [
    "Como puedes ver, tenemos un dataset con las medidas de largo y ancho del sépalo y el pétalo de una flor de iris, cuya especie se menciona en la última columna.\n",
    "\n",
    "También tenemos la columna \"Id\" pero no es necesaria, así que vamos a eliminarla con el método `drop`"
   ]
  },
  {
   "cell_type": "code",
   "execution_count": null,
   "metadata": {},
   "outputs": [],
   "source": [
    "data_iris.drop(columns=['Id'], inplace=True)"
   ]
  },
  {
   "cell_type": "markdown",
   "metadata": {},
   "source": [
    "¿Cuántas especies tenemos? usemos la función `nunique` para contar los valores únicos de la columna \"Species\""
   ]
  },
  {
   "cell_type": "code",
   "execution_count": null,
   "metadata": {},
   "outputs": [],
   "source": [
    "data_iris['Species'].nunique()"
   ]
  },
  {
   "cell_type": "markdown",
   "metadata": {},
   "source": [
    "Esto **ignora** los valores **nulos**, veamos cuántos tenemos en total."
   ]
  },
  {
   "cell_type": "code",
   "execution_count": null,
   "metadata": {},
   "outputs": [],
   "source": [
    "data_iris.isna().sum()"
   ]
  },
  {
   "cell_type": "markdown",
   "metadata": {},
   "source": [
    "# Solucionando valores nulos\n",
    "Tenemos exactamente tres valores nulos en cada columna. ¿Concidencia? ~~no lo creo~~.  \n",
    "En realidad modifiqué el dataset para propósitos educativos 😄 y añadí una fila de nulos que podemos verla usando `tail`"
   ]
  },
  {
   "cell_type": "code",
   "execution_count": null,
   "metadata": {},
   "outputs": [],
   "source": [
    "data_iris.tail(2)"
   ]
  },
  {
   "cell_type": "markdown",
   "metadata": {},
   "source": [
    "Estos aparecen como **NaN** siglas de *Not a Number* o **No es un Número**, para tratarlos podemos **eliminar las filas o columnas** que contengan algún valor nulo o no permitido 😵.  \n",
    "Otra opción es **reemplazarlos** con la **media** o la **moda** de toda su columna 🤔.\n",
    "\n",
    "Antes de intentar cualquier solución crearemos una **copia** de nuestro data_iris usando `copy` para preservar el original, si no usas copy sólo tendrás una referencia al objeto original, como pasa con las listas en Python 🐍."
   ]
  },
  {
   "cell_type": "code",
   "execution_count": null,
   "metadata": {},
   "outputs": [],
   "source": [
    "df = data_iris.copy()"
   ]
  },
  {
   "cell_type": "markdown",
   "metadata": {},
   "source": [
    "## Eliminar filas\n",
    "Es recomendable cuando tenemos **muchos datos y pocos son nulos**, pues no perdemos demasiada información.\n",
    "\n",
    "Usaremos el método `dropna` que recibe el parámetro `axis` o eje, que corresponde con la dimensión, podemos utilizar`0` o `\"index\"` para el caso de las **filas**.\n",
    "La función eliminará cualquier fila que contenga algún valor nulo 😵."
   ]
  },
  {
   "cell_type": "code",
   "execution_count": null,
   "metadata": {},
   "outputs": [],
   "source": [
    "df = df.dropna(axis=0)\n",
    "df.tail()"
   ]
  },
  {
   "cell_type": "markdown",
   "metadata": {},
   "source": [
    "## Eliminar columnas\n",
    "La usamos **si la columna no es importante**, o si **tenemos demasiados valores nulos**, pues no podríamos recuperar información.\n",
    "\n",
    "Sólo cambiamos`axis` a `1` o `'columns'` para el caso de las **columnas**."
   ]
  },
  {
   "cell_type": "code",
   "execution_count": null,
   "metadata": {},
   "outputs": [],
   "source": [
    "df = data_iris.copy()\n",
    "\n",
    "df = df.dropna('columns')\n",
    "df.tail()"
   ]
  },
  {
   "cell_type": "markdown",
   "metadata": {},
   "source": [
    "$\\cdots$  \n",
    "Recuerda siempre que **un sólo nulo basta**  para eliminar **toda** la fila o columna 😉"
   ]
  },
  {
   "cell_type": "markdown",
   "metadata": {},
   "source": [
    "## Reemplazar con la media\n",
    "La media es el promedio de la columna, por supuesto sólo funciona con los valores numéricos 🔢.  \n",
    "Debido a esto, excluímos la columna **Species** usando `iloc`."
   ]
  },
  {
   "cell_type": "code",
   "execution_count": null,
   "metadata": {},
   "outputs": [],
   "source": [
    "# todas las filas, de la primera a la penúltima columna\n",
    "df = data_iris.iloc[:, :-1]\n",
    "df.tail(3)"
   ]
  },
  {
   "cell_type": "markdown",
   "metadata": {},
   "source": [
    "sklearn tiene el objeto `SimpleImputer` para reemplazar valores, reemplazará los nulos por defecto.  \n",
    "Sólo debemos indicarle la `strategy` o estrategia para reemplazar los valores, que será `\"mean\"` en este caso. "
   ]
  },
  {
   "cell_type": "code",
   "execution_count": null,
   "metadata": {},
   "outputs": [],
   "source": [
    "from sklearn.impute import SimpleImputer\n",
    "\n",
    "df = data_iris.iloc[:, :-1]\n",
    "imp = SimpleImputer(strategy=\"mean\")\n",
    "\n",
    "df_inputed_mean = imp.fit_transform(df)\n",
    "\n",
    "# veamos la última fila\n",
    "df_inputed_mean[-1]"
   ]
  },
  {
   "cell_type": "markdown",
   "metadata": {},
   "source": [
    "Podemos comprobar que sean los valores correctos usando el método `mean` sobre el *DataFrame*"
   ]
  },
  {
   "cell_type": "code",
   "execution_count": null,
   "metadata": {},
   "outputs": [],
   "source": [
    "df.mean()"
   ]
  },
  {
   "cell_type": "markdown",
   "metadata": {},
   "source": [
    "## Reemplazar con la moda\n",
    "La moda es el valor que más se repite, por lo que podemos usar texto 🔡.  \n",
    "Usaremos también `SimpleImputer` cambiando la `strategy` a `\"most_frequent\"`"
   ]
  },
  {
   "cell_type": "code",
   "execution_count": null,
   "metadata": {},
   "outputs": [],
   "source": [
    "df = data_iris.copy()\n",
    "\n",
    "imp = SimpleImputer(strategy=\"most_frequent\")\n",
    "\n",
    "df_inputed_mode = imp.fit_transform(df)\n",
    "df_inputed_mode[-1]"
   ]
  },
  {
   "cell_type": "markdown",
   "metadata": {},
   "source": [
    "Y podemos comprobarlo con el método `mode`"
   ]
  },
  {
   "cell_type": "code",
   "execution_count": null,
   "metadata": {},
   "outputs": [],
   "source": [
    "df.mode()"
   ]
  },
  {
   "cell_type": "markdown",
   "metadata": {},
   "source": [
    "Pandas calculó que los nulos son valores que se repiten, pero `SimpleImputer` tomó los primeros valores no nulos."
   ]
  },
  {
   "cell_type": "markdown",
   "metadata": {},
   "source": [
    "# Valores no numéricos\n",
    "Para tratarlos **es necesario codificarlos**, una de las primeras ideas es asignar valores en serie como 1, 2, 3,... a cada especie, pero esto **implica que hay un orden establecido** entre especies.\n",
    "El modelo podría entender algo como 3 > 2 > 1, aprendiendo que cierta especie es mejor o peor que otra 😅.\n",
    "\n",
    "En su lugar debemos indicar que son valores de diferente **categoría** con un código que indique algo como\n",
    "> Es Iris setosa y no otra cosa\n",
    "\n",
    "| # | Iris setosa | Otra cosa |\n",
    "|---|-------------|-----------|\n",
    "| 1 |   sí   |   no   |\n",
    "| 2 |   sí   |   no   |\n",
    "| 3 |   no   |   si   |\n",
    "\n",
    "Tendremos **una columna por categoría**, marcando 1 a la que pertenece y 0 a las demás, esto se conoce como **One-hot encoding** y podemos obtenerla con el método `get_dummies` de pandas 🐼"
   ]
  },
  {
   "cell_type": "code",
   "execution_count": null,
   "metadata": {},
   "outputs": [],
   "source": [
    "df_one_hot = pd.get_dummies(df)\n",
    "df_one_hot.head()"
   ]
  },
  {
   "cell_type": "markdown",
   "metadata": {},
   "source": [
    "Por defecto actuará con todos los valores con el *dtype* `object`, pero también puedes tener un dataset con **categorías en forma de números**, como decíamos antes 1, 2, 3, ...  \n",
    "Asegúrate de informarte sobre las columnas del dataset, podrías encontrar esta información en la [fuente](https://www.kaggle.com/uciml/iris) de cada dataset 😉.\n",
    "\n",
    "Puedes verificar los `dtypes` de cada columna con ese atributo:"
   ]
  },
  {
   "cell_type": "code",
   "execution_count": null,
   "metadata": {},
   "outputs": [],
   "source": [
    "df.dtypes"
   ]
  },
  {
   "cell_type": "markdown",
   "metadata": {},
   "source": [
    "También podemos usar `OneHotEncoder` de sklearn, pero sólo enviaremos las columnas que queramos transformar y no admite que los datos tengan valores nulos.  \n",
    "Por defecto retorna una [matriz dispersa](https://es.wikipedia.org/wiki/Matriz_dispersa) pero podemos cambiarlo cambiando el parámetro `sparse` a falso."
   ]
  },
  {
   "cell_type": "code",
   "execution_count": null,
   "metadata": {},
   "outputs": [],
   "source": [
    "from sklearn.preprocessing import OneHotEncoder\n",
    "\n",
    "# sólo la última columna\n",
    "df_species = df_inputed_mode[:, [-1]]\n",
    "\n",
    "one_hot = OneHotEncoder(sparse=False)\n",
    "df_one_hot = one_hot.fit_transform(df_species)\n",
    "df_one_hot[:5]"
   ]
  },
  {
   "cell_type": "markdown",
   "metadata": {},
   "source": [
    "Si tuviéramos sólo dos categorías **no es necesario agregar dos columnas**, los valores 0 y 1 ya indican la **presencia o ausencia** de la feature 😄."
   ]
  },
  {
   "cell_type": "markdown",
   "metadata": {},
   "source": [
    "# Ejercicios\n",
    "¿Qué otras estrategias pueden ser útiles? prueba las que tiene `SimpleImputer` de sklearn "
   ]
  },
  {
   "cell_type": "code",
   "execution_count": null,
   "metadata": {},
   "outputs": [],
   "source": [
    "# revisa la documentación\n"
   ]
  },
  {
   "cell_type": "markdown",
   "metadata": {},
   "source": [
    "Utiliza alguna estrategia con el dataset de casas, los datos nulos estaban en \"total_bedrooms\", evalúa qué tanto mejora el modelo utilizando sólo esa feature y la variable objetivo \"median_house_value\""
   ]
  },
  {
   "cell_type": "code",
   "execution_count": null,
   "metadata": {},
   "outputs": [],
   "source": [
    "# total_bedrooms es una cantidad\n"
   ]
  },
  {
   "cell_type": "markdown",
   "metadata": {},
   "source": [
    "Con todo lo aprendido ya vamos dominando las bases del machine learning 😉.  \n",
    "Es más, ahora la máquina puede aprender a **distinguir categorías o clases** 🤯.\n",
    "\n",
    "> Ten las medídas de sépalo, pétalo y dime ¿es setosa u otra cosa?  \n",
    "\n",
    "$\\cdots$  \n",
    "Responderá, cuando aprenda [clasificación](8_Clasificacion.ipynb)."
   ]
  }
 ],
 "metadata": {
  "kernelspec": {
   "display_name": "Python 3",
   "language": "python",
   "name": "python3"
  },
  "language_info": {
   "codemirror_mode": {
    "name": "ipython",
    "version": 3
   },
   "file_extension": ".py",
   "mimetype": "text/x-python",
   "name": "python",
   "nbconvert_exporter": "python",
   "pygments_lexer": "ipython3",
   "version": "3.8.8"
  }
 },
 "nbformat": 4,
 "nbformat_minor": 4
}
