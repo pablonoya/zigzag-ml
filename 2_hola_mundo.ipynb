{
 "cells": [
  {
   "cell_type": "code",
   "execution_count": null,
   "metadata": {
    "jupyter": {
     "source_hidden": true
    }
   },
   "outputs": [],
   "source": [
    "! mkdir -p datasets\n",
    "%cd datasets\n",
    "! wget -nc https://raw.githubusercontent.com/pablonoya/zigzag-ml/master/datasets/housing.csv\n",
    "%cd .."
   ]
  },
  {
   "cell_type": "markdown",
   "metadata": {},
   "source": [
    "# ¡Hola mundo! del machine learning\n",
    "Considero que el [hola mundo](https://es.wikipedia.org/wiki/Hola_mundo) del machine learning es la [regresión lineal](https://es.wikipedia.org/wiki/Regresi%C3%B3n_lineal) un modelo matemático que busca aproximar la relación de una variable que depende de otras. Es una forma de saber cómo **las entradas influyen en la salida** 🤔.\n",
    "\n",
    "El modelo resultante será la recta que mejor se ajuste a nuestros datos 📉."
   ]
  },
  {
   "cell_type": "markdown",
   "metadata": {},
   "source": [
    "## y = mx + b\n",
    "Es la ecuación de la recta, describe la relacion entre un **término independiente** $x$ y uno **dependiente** $y$ que depende de $x$, el **parámetro** $m$ y el término independiente \"$b$.  \n",
    "Donde:\n",
    "\n",
    "- $m$ es la **pendiente**, mide qué tan inclinada está la recta, un valor negativo muestra una recta que baja de izquierda a derecha.\n",
    "- $b$ es el **término independiente**, es el punto en el que la recta corta el eje vertical de un plano.\n",
    "- $y$ es la variable **dependiente** de los demás valores.\n",
    "- $x$ es la variable **independiente**.\n",
    "\n",
    "Si la ecuación fuera $y = -\\frac{1}{2}x + 2$\n",
    "La recta resultante sería:  \n",
    "![recta resultante](img/2.1_line_equation.png)\n",
    "\n",
    "Por tanto, $m = \\frac{1}{2}$ y  $b = 2$"
   ]
  },
  {
   "cell_type": "markdown",
   "metadata": {},
   "source": [
    "# Resolviendo el problema\n",
    "Podemos resolver el primer problema ~~salvaje~~ que nos apareció, predecir el precio de una casa. Utilizaremos el dataset [California Housing](https://www.kaggle.com/camnugent/california-housing-prices), este dataset es el primer ejemplo del libro [Hands-on Machine Learning with Scikit-Learn and Tensorflow](https://www.oreilly.com/library/view/hands-on-machine-learning/9781492032632/) 🦎📖"
   ]
  },
  {
   "cell_type": "code",
   "execution_count": null,
   "metadata": {},
   "outputs": [],
   "source": [
    "# ¡venga, dataset!\n",
    "import pandas as pd\n",
    "data_housing = pd.read_csv('./datasets/housing.csv')\n",
    "data_housing.head()"
   ]
  },
  {
   "cell_type": "markdown",
   "metadata": {},
   "source": [
    "## Mirando el dataset\n",
    "Antes de utilizar los datos deberíamos verificarlos un poco, por lo menos verificando que no existan datos vacíos.\n",
    "Recordarás que podemos usar el método `isna`, pero nuestra tabla ahora es muy grande."
   ]
  },
  {
   "cell_type": "code",
   "execution_count": null,
   "metadata": {},
   "outputs": [],
   "source": [
    "data_housing.isna()"
   ]
  },
  {
   "cell_type": "markdown",
   "metadata": {},
   "source": [
    "Tenemos 20 mil filas 😨 revisarlas una a una para ver si tienen valores vacíos no es una opción, lo mejor sería contar qué valores son verdaderos, una tarea fácil si utilizamos una sumatoria pues Python convierte los valores True a 1 y False a 0, y podemos sumar por columna utilizando el método `sum` del DataFrame."
   ]
  },
  {
   "cell_type": "code",
   "execution_count": null,
   "metadata": {},
   "outputs": [],
   "source": [
    "data_housing.isna().sum()"
   ]
  },
  {
   "cell_type": "markdown",
   "metadata": {},
   "source": [
    "Por ahora vamos a borrar cada fila que tenga un valor vacío usando `dropna`"
   ]
  },
  {
   "cell_type": "code",
   "execution_count": null,
   "metadata": {},
   "outputs": [],
   "source": [
    "data_housing.dropna(inplace=True)"
   ]
  },
  {
   "cell_type": "markdown",
   "metadata": {},
   "source": [
    "Contamos con 10 columnas, cada fila describe las características promedio de un bloque de casas 🏡🏡🏡.  \n",
    "Tomemos una columna como feature, la que mejor parece determinar el precio, dado por \"median_house_value\" es el ingreso en miles de sus habitantes, dado por \"median_income\". Cada columna retorna un objeto Series, y vamos a asignarlas en 2 variables.\n",
    "> Features en `X`, y labels en `y`, así nombraremos las variables desde ahora."
   ]
  },
  {
   "cell_type": "code",
   "execution_count": null,
   "metadata": {},
   "outputs": [],
   "source": [
    "# Seleccionando columnas tendremos objetos Series\n",
    "X = data_housing['median_income']\n",
    "y = data_housing['median_house_value']"
   ]
  },
  {
   "cell_type": "markdown",
   "metadata": {},
   "source": [
    "\n",
    "Veamos cómo se relacionan ambas columnas gracias a una [gráfica de dispersion](https://es.wikipedia.org/wiki/Diagrama_de_dispersi%C3%B3n) realizada con [matplotlib](https://matplotlib.org/), una librería para graficar datos."
   ]
  },
  {
   "cell_type": "code",
   "execution_count": null,
   "metadata": {},
   "outputs": [],
   "source": [
    "import matplotlib.pyplot as plt\n",
    "\n",
    "plt.scatter(X, y)\n",
    "plt.xlabel(\"Ingreso\")\n",
    "plt.ylabel(\"Precio\")\n",
    "plt.title(\"Relación entre ingreso y precio\")\n",
    "plt.show()"
   ]
  },
  {
   "cell_type": "markdown",
   "metadata": {},
   "source": [
    "En general, vemos una **relación directamente proporcional**: a mayor ingreso, mayor costo.  \n",
    "También vemos muchos puntos en la parte superior, esto parece indicar que los precios mayores a 500 mil han sido truncados."
   ]
  },
  {
   "cell_type": "markdown",
   "metadata": {},
   "source": [
    "La **relación** entre el **parámetro y término independiente** de la recta y los atributos del objeto `model` es:\n",
    "- $m$ es igual a `model.coef_[0]`\n",
    "- $b$ es igual a `model.intercept_`\n",
    "\n",
    "Debido a esto, cuando **entrenamos un modelo** de machine learning, en realidad, buscamos **hallar los parámetros que mejor se ajusten** a los datos."
   ]
  },
  {
   "cell_type": "code",
   "execution_count": null,
   "metadata": {},
   "outputs": [],
   "source": [
    "from sklearn.linear_model import LinearRegression\n",
    "# reshape a 2D considerando que trabajamos con un Series\n",
    "X_2D = X.values.reshape(-1, 1)\n",
    "\n",
    "# entrenamos el modelo para hallar los parámetros de la recta\n",
    "model = LinearRegression()\n",
    "model.fit(X_2D, y)\n",
    "\n",
    "print(f\"Los parámetros obtenidos son: m = {model.coef_[0] :.2f} y b = {model.intercept_ :.2f}\")"
   ]
  },
  {
   "cell_type": "markdown",
   "metadata": {},
   "source": [
    "La **pendiente es positiva**, esto confirma la relación **directamente proporcional** ↗."
   ]
  },
  {
   "cell_type": "markdown",
   "metadata": {},
   "source": [
    "# Utilizando el modelo\n",
    "Con el modelo entrenado, podemos **estimar** o **predecir** el valor de todas las viviendas, sólo debemos llamar al método `predict`. Este usará internamente los parámetros `coef_` e `intercept` para la ecuación que ya conocemos 😎.\n",
    "\n",
    "Para evaluar al modelo comparemos la primera predicción con el valor real de la primera vivienda. Los valores reales son los targets, recuerda que están en `y`."
   ]
  },
  {
   "cell_type": "code",
   "execution_count": null,
   "metadata": {},
   "outputs": [],
   "source": [
    "predicted_values = model.predict(X_2D)\n",
    "\n",
    "# comparemos con el valor real\n",
    "print(f\"El valor real es {y[0]}, y según el modelo es {predicted_values[0] :.2f}\")"
   ]
  },
  {
   "cell_type": "markdown",
   "metadata": {},
   "source": [
    "Hay una diferencia de -59 573 para esta vivienda, el modelo estima que el valor debe ser más bajo porque la recta está debajo del valor real y la diferencia será mayor mientras más lejos esté el valor real de la recta.\n",
    "\n",
    "Vamos a **graficar la recta** que mejor se ajustó a los datos, tomaremos los valores máximo y mínimo de `X_2D`, para tener los límites de la gráfica.  \n",
    "Entonces aplicamos la **predicción del modelo** para tener su respectivos valores en el eje y, entonces uniremos ambos puntos con un **gráfico de lineas** usando la función `plot` de matplotlib."
   ]
  },
  {
   "cell_type": "code",
   "execution_count": null,
   "metadata": {},
   "outputs": [],
   "source": [
    "# la gráfica de los datos de fondo\n",
    "plt.scatter(X, y)\n",
    "\n",
    "xpoints = [min(X_2D), max(X_2D)]\n",
    "ypoints = model.predict(xpoints)\n",
    "\n",
    "plt.plot(xpoints, ypoints, color=\"red\")\n",
    "plt.xlabel(\"Ingreso\")\n",
    "plt.ylabel(\"Precio\")\n",
    "plt.show()"
   ]
  },
  {
   "cell_type": "markdown",
   "metadata": {},
   "source": [
    "Considerando que los valores son altos, hasta 500 mil, no debemos preocuparnos mucho por un \"pequeño\" error de -59 mil.  \n",
    "Pero esto sólo aplica a la primera vivienda, **¿cómo evaluamos el error de todas?**"
   ]
  },
  {
   "cell_type": "markdown",
   "metadata": {},
   "source": [
    "# Evaluando el modelo\n",
    "Podríamos promediar todos los errores, pero los que estén **debajo de la recta serán negativos**, como en la primera casa, para solucionarlo, **elevamos cada error al cuadrado** y luego promediamos estos.\n",
    "\n",
    "$$\\frac{1}{n} \\sum{(y_{r} - \\widehat{y} )^2}$$\n",
    "\n",
    "\n",
    "$\\widehat{y}$ se lee **y hat** (en español, *ye sombrero* 🤠) es el valor que predice el modelo, esto nos muestra que medimos la distancia vertical de cada punto a la recta para calcular el error. La recta que **mejor se ajusta** es aquella que **minimiza las distancias** hacia todos los puntos.\n",
    "\n",
    "Esta fórmula es una **métrica** conocida como *mean squared error* (**MSE** para los amigos) o error cuadrático promedio."
   ]
  },
  {
   "cell_type": "code",
   "execution_count": null,
   "metadata": {},
   "outputs": [],
   "source": [
    "y_hat = model.predict(X_2D)\n",
    "\n",
    "squared_errors = (y_hat - y) ** 2\n",
    "mse = sum(squared_errors) / len(y)\n",
    "\n",
    "print(f\"MSE: {mse :.2f}\")"
   ]
  },
  {
   "cell_type": "markdown",
   "metadata": {},
   "source": [
    "¡Es bastante alto! 😰\n",
    "\n",
    "Si un error es alto, este valor al cuadrado es mucho más alto. Podemos observar **outliers** o valores extremos que se alejan bastante de la recta, si los sumamos... tendremos el porqué ese error tan alto.  \n",
    "Es frecuente calcular el **square root of MSE (RMSE)** o raíz cuadrada del MSE para tener una mejor idea del error real, sin embargo este sigue siendo afectado por los outliers."
   ]
  },
  {
   "cell_type": "code",
   "execution_count": null,
   "metadata": {},
   "outputs": [],
   "source": [
    "rmse = mse ** (1/2)\n",
    "print(f\"RMSE: {rmse :.2f}\")"
   ]
  },
  {
   "cell_type": "markdown",
   "metadata": {},
   "source": [
    "Muchísimo mejor 😌\n",
    "\n",
    "Además, existe una métrica a la que no le afectan demasiado los outliers, *mean absolute error* (**MAE**) o error absoluto promedio, es otra solución para los errores negativos, pues quizá hayas pensado también en el valor absoluto para solucionar el problema de obtener el promedio con números negativos.\n",
    "\n",
    "Tanto MSE como MAE se pueden calcular con `sklearn.metrics`"
   ]
  },
  {
   "cell_type": "code",
   "execution_count": null,
   "metadata": {},
   "outputs": [],
   "source": [
    "from sklearn.metrics import mean_absolute_error, mean_squared_error\n",
    "\n",
    "print(f\"MAE: {mean_absolute_error(y_hat, y) :.2f}\")\n",
    "print(f\"MSE: {mean_squared_error(y_hat, y) :.2f}\")"
   ]
  },
  {
   "cell_type": "markdown",
   "metadata": {},
   "source": [
    "# Incluyendo más features\n",
    "¿Recuerdas que sklearn espera un array 2D? cada feature que incluyamos es una columna más, con dos o más features:\n",
    "\n",
    "- Entrenamos una regresión lineal **múltiple**, depende de muchas variables.\n",
    "- El atributo `coef_` del modelo tendrá **múltiples features** (siempre las tuvo, pero sólo tomamos el primer valor).\n",
    "- Es posible que **mejore el modelo**, si eliges **features que aporten información relevante** a la predicción.\n",
    "\n",
    "Incluyamos la feature \"housing_median_age\" que describe la edad promedio de las casas, ambas features estarán en un DataFrame."
   ]
  },
  {
   "cell_type": "code",
   "execution_count": null,
   "metadata": {},
   "outputs": [],
   "source": [
    "# todas las filas, sexta y octava columna\n",
    "X_selected_features = data_housing[['median_income', 'housing_median_age']]\n",
    "X_selected_features.head()"
   ]
  },
  {
   "cell_type": "code",
   "execution_count": null,
   "metadata": {},
   "outputs": [],
   "source": [
    "# entrenamos otro modelo\n",
    "model_selected_features = LinearRegression()\n",
    "\n",
    "# ¡ya no es necesario el reshape!\n",
    "model_selected_features.fit(X_selected_features, y)\n",
    "\n",
    "print(\"Coeficientes: \", model_selected_features.coef_)\n",
    "\n",
    "# evaluemos\n",
    "y_hat = model_selected_features.predict(X_selected_features)\n",
    "print(f\"MAE: {mean_absolute_error(y_hat, y) :.2f}\")"
   ]
  },
  {
   "cell_type": "markdown",
   "metadata": {},
   "source": [
    "¡Sí mejoró! 🥳"
   ]
  },
  {
   "cell_type": "markdown",
   "metadata": {},
   "source": [
    "Intenta **cambiar o incluir más features**, pero no todas las combinaciones darán un mejor modelo, por razones que trataremos más adelante. Además no puedes usar (aún) la última columna \"ocean_proximity\" porque **no contiene valores númericos** .  \n",
    "Tampoco podrás graficar en 2D si escoges 2 o más features, pero siempre podrás usar alguna métrica."
   ]
  },
  {
   "cell_type": "markdown",
   "metadata": {},
   "source": [
    "# Regresión lineal múltiple\n",
    "Como mencionamos, el modelo ahora tiene ese nombre y permite aprender de múltiples _features_.\n",
    "\n",
    "Un gran nombre conlleva una gran ecuación: \n",
    "\n",
    "$$y = a_1x_1 + a_2x_2 + ... + a_nx_n + b $$\n",
    "\n",
    "Donde:\n",
    "+ $n$ es el **número** de features.\n",
    "+ $a$ es un **vector de parámetros**.\n",
    "+ $x$ es el **vector de features** para cada fila.\n",
    "+ $b$ es el **término independiente**.\n",
    "\n",
    "La cual es una **generalización** de la ecuación de la recta, conocida también como ecuación lineal."
   ]
  },
  {
   "cell_type": "markdown",
   "metadata": {},
   "source": [
    "# Ejercicios\n",
    "Algunas combinaciones de features funcionarán mejor que otras, **prueba combinaciones de dos features**.  \n",
    "¿Cuál parece funcionar mejor sobre la métrica MSE? ¿A qué crees que se deba?"
   ]
  },
  {
   "cell_type": "code",
   "execution_count": null,
   "metadata": {},
   "outputs": [],
   "source": [
    "# define variables para las columnas de features\n"
   ]
  },
  {
   "cell_type": "markdown",
   "metadata": {},
   "source": [
    "**Entrena** un modelo con las mejores features que hallaste, y **utiliza** los atributos en `coef_` e `intercept` para **implementar** la ecuación de regresión lineal múltiple.  \n",
    "Por último, **elige alguna fila** de los datos existentes para comparar el resultado con la respuesta real."
   ]
  },
  {
   "cell_type": "code",
   "execution_count": null,
   "metadata": {},
   "outputs": [],
   "source": [
    "# crea un nuevo modelo para esta tarea\n"
   ]
  },
  {
   "cell_type": "markdown",
   "metadata": {},
   "source": [
    "# ¿Es un buen modelo?\n",
    "Las métricas son útiles, pero pueden ser **engañosas**, debemos elegir siempre la que más se adecúe al problema, no la que presente un **error más bajo** (no hagas trampa 😡).  \n",
    "\n",
    "Lo importante es que te hagas preguntas como ¿debería tomar en cuenta los **outliers**? o ¿necesito que mi modelo sea muy **preciso**?.  \n",
    "La respuesta dependerá de los objetivos del modelo, y este **siempre dependerá de los datos** pues el modelo matemático será el mismo pero con **diferentes parámetros** como resultado de su entrenamiento 🧠.\n",
    "\n",
    "Las **métricas suelen ser lo último** que extraemos de un proyecto de machine learning, antes deberíamos [probarlo](./3_test_set.ipynb)."
   ]
  }
 ],
 "metadata": {
  "kernelspec": {
   "display_name": "Python 3",
   "language": "python",
   "name": "python3"
  },
  "language_info": {
   "codemirror_mode": {
    "name": "ipython",
    "version": 3
   },
   "file_extension": ".py",
   "mimetype": "text/x-python",
   "name": "python",
   "nbconvert_exporter": "python",
   "pygments_lexer": "ipython3",
   "version": "3.7.7"
  },
  "toc-autonumbering": false
 },
 "nbformat": 4,
 "nbformat_minor": 4
}
