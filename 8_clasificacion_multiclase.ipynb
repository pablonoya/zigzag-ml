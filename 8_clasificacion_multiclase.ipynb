{
 "cells": [
  {
   "cell_type": "markdown",
   "metadata": {},
   "source": [
    "## Clasificación Multiclase\n",
    "Tenemos **tres estrategias** para predecir a cuál de las especies de iris pertenece un ejemplo, aplicamos una a medias (más bien a tercias) en el capítulo anterior, veamos cuál es."
   ]
  },
  {
   "cell_type": "markdown",
   "metadata": {},
   "source": [
    "Zigzag Machine learning es una colección de Jupyter Notebooks que pretende enseñar las bases del Machine Learning.\n",
    "Sigue un enfoque *top-down*, de arriba hacia abajo, por lo general y *bottom-up*, de abajo hacia arriba, cuando es necesario (o interesante). Por estas subidas y bajadas tenemos un zigzag 😄\n",
    "\n",
    "# Requisitos\n",
    "Puedes utilizar [Anaconda](https://www.anaconda.com/distribution/) que tiene todo lo necesario y algunos extras.  \n",
    "O [Miniconda](https://docs.conda.io/en/latest/miniconda.html) para instalar sólo lo necesario.\n",
    "\n",
    "Cuando lo tengas configurado clona el repositorio, y dentro de él ejecuta:\n",
    "\n",
    "    conda env create -f env.yml\n",
    "    conda activate zzml\n",
    "    \n",
    "Finalmente abre Jupyter Lab\n",
    "\n",
    "    $ conda activate zzml\n",
    "\n",
    "O el clásico Jupyter Notebook\n",
    "\n",
    "    $ conda activate zzml"
   ]
  },
  {
   "cell_type": "markdown",
   "metadata": {},
   "source": [
    "### One vs the Rest\n",
    "La idea es etiquetar **una** clase como **positiva** y **todas las demás** como **negativas**, es **una contra el resto**. En el capítulo anterior distinguimos entre **setosa** y **no-setosa**, esto lo hacemos para todas las clases, entrenando un clasificador **distinto** cada caso.\n",
    "\n",
    "Esto no es muy complicado de implementar, pero por suerte `LogisticRegression` ya cuenta con la opción de usar dicha estrategia, estableciento su parámetro `multi_class` en `'ovr'`.\n",
    "\n",
    "Este modelo espera que `y` sea un array, **no es necesario** que realicemos el one-hot encoding."
   ]
  },
  {
   "cell_type": "code",
   "execution_count": null,
   "metadata": {},
   "outputs": [],
   "source": [
    "import pandas as pd\n",
    "from sklearn.linear_model import LogisticRegression\n",
    "import numpy as np\n",
    "\n",
    "np.random.seed(42)\n",
    "\n",
    "df = pd.read_csv(\"datasets/Iris.csv\")\n",
    "y = df[\"Species\"]\n",
    "\n",
    "# no necesitamos estas columnas\n",
    "# guardamos las demás en X\n",
    "X = df.drop(columns=['Id', 'Species'])\n",
    "\n",
    "model_log = LogisticRegression(multi_class=\"ovr\")\n",
    "model_log.fit(X, y)\n",
    "\n",
    "# realicemos algunas predicciones\n",
    "X_sample = X.sample(5)\n",
    "model_log.predict(X_sample)"
   ]
  },
  {
   "cell_type": "markdown",
   "metadata": {},
   "source": [
    "También tenemos la implementación en `OneVsRestClassifier` de `sklearn.multiclass`, este recibe una **instancia del modelo** que usaremos, por supuesto, debe ser uno de **clasificación**."
   ]
  },
  {
   "cell_type": "code",
   "execution_count": null,
   "metadata": {},
   "outputs": [],
   "source": [
    "from sklearn.multiclass import OneVsRestClassifier\n",
    "\n",
    "model_ovr = OneVsRestClassifier( LogisticRegression() )\n",
    "model_ovr.fit(X, y)\n",
    "model_ovr.predict(X_sample)"
   ]
  },
  {
   "cell_type": "markdown",
   "metadata": {},
   "source": [
    "### One vs One\n",
    "Entrenamos clasificadores por pares, **uno contra uno** distinguimos setosa de versicolor, setosa de virginica, versicolor de virginica, y así hasta entrenar todas las combinaciones, siendo $K (K-1) / 2 $ en total, donde $K$ es el número de clases.\n",
    "\n",
    "La ventaja es que cada clasificador se entrena **sólo con los datos que contienen las clases a distinguir**, algunos modelos **no escalan bien con el tamaño del dataset**, es decir, rinden mal con un dataset más grande.  \n",
    "En estos casos es más rápido entrenar **muchos** clasificadores en **pequeños** datasets que **pocos** en datasets más **grandes**. \n",
    "\n",
    "Usaremos `OneVsOneClassifier` también de `sklearn.multiclass` pues `LogisticRegression` no la soporta."
   ]
  },
  {
   "cell_type": "code",
   "execution_count": null,
   "metadata": {},
   "outputs": [],
   "source": [
    "from sklearn.multiclass import OneVsOneClassifier\n",
    "\n",
    "model_ovo = OneVsOneClassifier(LogisticRegression())\n",
    "model_ovo.fit(X, y)\n",
    "model_ovo.predict(___)"
   ]
  },
  {
   "cell_type": "markdown",
   "metadata": {},
   "source": [
    "### Regresión logística multinomial\n",
    "Es una **generalización** de la regresión logística, que cubre **múltiples clases** directamente, eliminando la necesidad de entrenar varios clasificadores binarios.\n",
    "\n",
    "El parámetro `multiclass` que vimos antes acepta los parámetros `'auto'`, `'ovr'` y `'multinomial'`, **auto** es la opción por defecto, y esta selecciona **ovr** si `y` es **binario**.\n",
    "\n",
    "Como no es nuestro caso, seleccionará **multinomial**, por lo que sería opcional especificarlo."
   ]
  },
  {
   "cell_type": "code",
   "execution_count": null,
   "metadata": {},
   "outputs": [],
   "source": [
    "model_multi = LogisticRegression(multi_class='multinomial')\n",
    "model_multi.fit(X, y)\n",
    "model_multi.predict(X_sample)"
   ]
  },
  {
   "cell_type": "markdown",
   "metadata": {},
   "source": [
    "Esto también es conocido como **Regresión Softmax**. Dado un ejemplo $x$, esta calcula primero un puntaje $s_k(x)$ para cada clase $k$\n",
    "\n",
    "$s_k(x) = x^T\\theta^{(k)}$\n",
    "\n",
    "Nota que **cada clase** tiene su propio **vector** $\\theta^{(k)}$. Cada uno se guarda en una fila de la matríz $\\theta$ que está repartida en los atributos `coef_` e `intercept_` de nuestro modelo. Como vimos al implementar el [descenso del gradiente](5_descenso_del_gradiente.ipynb) $\\theta$ contiene los coeficientes y el término independiente en una sola matriz."
   ]
  },
  {
   "cell_type": "code",
   "execution_count": null,
   "metadata": {},
   "outputs": [],
   "source": [
    " model_multi.coef_"
   ]
  },
  {
   "cell_type": "markdown",
   "metadata": {},
   "source": [
    "Una columna por cada feature, una fila por cada clase 😉\n",
    "\n",
    "Luego se aplica la función **softmax** para calcular las probabilidades $\\hat{p}_k$ de que el ejemplo $x$ **pertenezca a una clase $k$** calculando una especie de media de las exponenciales, esto es $e$ elevado a los puntajes que antes calculamos.\n",
    "\n",
    "$\\hat{p}_k = \\dfrac{\\exp s_k(x)}{\\sum^K_{j=1}\\exp s_j(x)}$\n",
    "\n",
    "Donde $K$ es el número total de clases"
   ]
  },
  {
   "cell_type": "code",
   "execution_count": null,
   "metadata": {},
   "outputs": [],
   "source": [
    "len(model_multi.classes_)"
   ]
  },
  {
   "cell_type": "markdown",
   "metadata": {},
   "source": [
    "Al final, se predice la clase con la **probabilidad más alta**, podemos usar `np.argmax` sobre un **vector** que contenga las **probabilidades**, esto nos dará el **índice** donde se encuentra el número más alto.\n",
    "\n",
    "Primero calculemos $s(x)$ como un vector que contega los **puntajes de cada clase**, por lo que tendrá 3 elementos y será el resultado de una multiplicación de matrices, y no olvidemos sumar los términos independientes 😉"
   ]
  },
  {
   "cell_type": "code",
   "execution_count": null,
   "metadata": {},
   "outputs": [],
   "source": [
    "# Operamos con una matriz de numpy\n",
    "# y guardamos la primera fila\n",
    "X_sample1 = X_sample.to_numpy()[0]\n",
    "\n",
    "s = X_sample1 @ model_multi.coef_.T + model.intercept_\n",
    "s"
   ]
  },
  {
   "cell_type": "markdown",
   "metadata": {},
   "source": [
    "Luego $p$ como otro vector de tres elementos que contiene las **probabilidades** de que nuestro ejemplo **pertenezca a alguna de las clases** 0, 1 o 2, setosa, versicolor o virginica, respectivamente 😄"
   ]
  },
  {
   "cell_type": "code",
   "execution_count": null,
   "metadata": {},
   "outputs": [],
   "source": [
    "p = np.exp(s) / sum(np.exp(s))\n",
    "p"
   ]
  },
  {
   "cell_type": "markdown",
   "metadata": {},
   "source": [
    "Finalmente obtenemos a qué clase pertenece nuestro ejemplo 😃"
   ]
  },
  {
   "cell_type": "code",
   "execution_count": null,
   "metadata": {},
   "outputs": [],
   "source": [
    "# Clase de nuestro primer ejemplo\n",
    "pred = np.argmax(p)\n",
    "pred"
   ]
  },
  {
   "cell_type": "markdown",
   "metadata": {},
   "source": [
    "Es **versicolor**, como nuestros anteriores modelos lo predijeron 😄\n",
    "\n",
    "Ahora intenta predecir **todo** `X_sample`, al final `pred` debería ser un **array de 5 elementos** con cada una de las clases predichas 😉  \n",
    "Además, `s` y `p` deberían ser matrices de 3x5 "
   ]
  },
  {
   "cell_type": "markdown",
   "metadata": {},
   "source": [
    "Cada estrategia tiene su momento: **OvR** si el modelo es **estrictamente binario**, **OvO**  el modelo **no escala** bien con la **cantidad de datos** y la regresión **softmax** es como una regresión logística 😄 (generalizada)\n",
    "\n",
    "Las primeras dos nos descubren que existen **más modelos** de clasificación, pero el próximo que veremos usa softmax 😂 y no por ello es menos interesante, es más, te aseguro que su nombre te despierta interés 🧠:\n",
    "\n",
    "Te presento a las [redes neuronales artificiales](9_redes_neuronales.ipynb) "
   ]
  },
  {
   "cell_type": "code",
   "execution_count": null,
   "metadata": {},
   "outputs": [],
   "source": []
  }
 ],
 "metadata": {
  "kernelspec": {
   "display_name": "Python 3",
   "language": "python",
   "name": "python3"
  },
  "language_info": {
   "codemirror_mode": {
    "name": "ipython",
    "version": 3
   },
   "file_extension": ".py",
   "mimetype": "text/x-python",
   "name": "python",
   "nbconvert_exporter": "python",
   "pygments_lexer": "ipython3",
   "version": "3.7.7"
  }
 },
 "nbformat": 4,
 "nbformat_minor": 4
}
