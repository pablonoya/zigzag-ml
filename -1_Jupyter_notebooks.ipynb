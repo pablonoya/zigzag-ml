{
 "cells": [
  {
   "cell_type": "markdown",
   "id": "9b2f49de-638f-4ca5-871f-e9744916ad8b",
   "metadata": {},
   "source": [
    "# Cuadernos con código\n",
    "Esa sería la definición más corta de un Jupyter Notebook 📖.  \n",
    "Cada cuaderno está divido en secciones, que pueden contener texto en formato [Markdown](https://markdown.es/) o código en el lenguaje de programación [Python](https://es.wikipedia.org/wiki/Python) 🐍.\n",
    "\n",
    "Puedes ejecutar las celdas de código haciendo click en ellas y presionando las teclas Shift + Enter, o utilizando el botón ▶️, inténtalo con la siguiente celda:"
   ]
  },
  {
   "cell_type": "code",
   "execution_count": null,
   "id": "7369a15b-ff63-4dc8-b8f4-65e9c26ed722",
   "metadata": {},
   "outputs": [],
   "source": [
    "# clásico código python\n",
    "print('Hola mundo.')"
   ]
  },
  {
   "cell_type": "markdown",
   "id": "4c2a91ca-53c2-40f8-bc4c-9058f1375c20",
   "metadata": {},
   "source": [
    "Por supuesto también puedes modificar el código y volverlo a ejecutar, intenta cambiar el mensaje anterior 💬."
   ]
  },
  {
   "cell_type": "markdown",
   "id": "02560ad5-e7e0-4d67-914e-44dfa21a1af4",
   "metadata": {},
   "source": [
    "# Celdas de código\n",
    "La ventaja de dividir el código de esta manera es poder ejecutar sólo ciertas funciones y tenerlas en memoria, vamos a transformar el código anterior en una."
   ]
  },
  {
   "cell_type": "code",
   "execution_count": null,
   "id": "7e61f126-4c80-42ed-a7bb-9f2ad4d30ff7",
   "metadata": {},
   "outputs": [],
   "source": [
    "def print_message(message):\n",
    "    print(message)"
   ]
  },
  {
   "cell_type": "markdown",
   "id": "79fa1680-2d97-4579-8fa6-511f4ec10d19",
   "metadata": {},
   "source": [
    "Y puedo llamar a la función en otra(s) celdas cuantas veces quiera, si necesito hacer un cambio sólo a esa función, sólo edito esa celda y no un archivo entero 🤯."
   ]
  },
  {
   "cell_type": "code",
   "execution_count": null,
   "id": "9898522a-5b6b-4569-911f-fb220596a80c",
   "metadata": {},
   "outputs": [],
   "source": [
    "print_message('Soy una función!')"
   ]
  },
  {
   "cell_type": "markdown",
   "id": "f33e5d7b-8c4e-4e71-9bc1-c3421da5241e",
   "metadata": {},
   "source": [
    "Habrás notado que a la izquierda de las celdas de código aparece un número, este indica su número de ejecución, el valor más alto será la última celda ejecutada.  \n",
    "No importa su orden en el cuaderno, prueba ejecutando una vez más la primera celda de código 🐍."
   ]
  },
  {
   "cell_type": "markdown",
   "id": "c57ccea1-dd9a-4733-bdda-2d7082cb2cd7",
   "metadata": {},
   "source": [
    "## Experimentando\n",
    "Este entorno es ideal porque nos permite realizar varias pruebas rápidamente, veamos un ejemplo creando una función para sumar todos los elementos de una lista"
   ]
  },
  {
   "cell_type": "code",
   "execution_count": null,
   "id": "76b053fc-6ea9-4bf4-a763-26bbc9e96856",
   "metadata": {},
   "outputs": [],
   "source": [
    "def example_function(nums):\n",
    "    result = 0\n",
    "    for num in nums:\n",
    "        result = result + num\n",
    "    return result"
   ]
  },
  {
   "cell_type": "code",
   "execution_count": null,
   "id": "3449de01-0af5-4452-a80d-6f6d1155af53",
   "metadata": {},
   "outputs": [],
   "source": [
    "nums = [5, 8, 3, 2, 9, 3]\n",
    "\n",
    "example_function(nums)"
   ]
  },
  {
   "cell_type": "markdown",
   "id": "3239b31c-f0aa-4734-89d0-61a087397f37",
   "metadata": {},
   "source": [
    "Ahora intenta hacer los cambios necesarios para que multiplique los números 😃."
   ]
  },
  {
   "cell_type": "raw",
   "id": "1629ba3f-9ab5-4055-ab63-923263e7537b",
   "metadata": {},
   "source": [
    "# Tipos de celda\n",
    "\n",
    "Puedes cambiar entre tipos de celda con el menú desplegable, o utilizando combinaciones del teclado tienes los tipos: Code, Markdown y Raw, este último equivale a texto plano.\n",
    "Cambia esta a markdown para ver el *formato* de **esta** celda."
   ]
  },
  {
   "cell_type": "markdown",
   "id": "befe5e7b-0fad-4c89-b626-5467ba52e9ed",
   "metadata": {},
   "source": [
    "# Fórmulas matemáticas\n",
    "Adicionalmente, podemos usar fórmulas matématicas escritas en [LaTeX](https://www.math.ubc.ca/~pwalls/math-python/jupyter/latex/) las cuales se mostrarán como:  \n",
    "$ y = x + 1 $\n",
    "\n",
    "Y se escriben encerrando la sintaxis entre símbolos de dólar 💲 para el caso anterior:\n",
    "```\n",
    "$ y = x + 1 $\n",
    "```"
   ]
  },
  {
   "cell_type": "markdown",
   "id": "e1719361-e5fa-49be-89a7-943519df0354",
   "metadata": {},
   "source": [
    "# Edición\n",
    "Para editar una celda con formato puedes hacer doble click sobre ella, edita la fórmula anterior y añade doble signo de dólar al principio y al final de la misma 💲💲."
   ]
  },
  {
   "cell_type": "markdown",
   "id": "7ae2ea60-f849-487d-913c-1117df266c84",
   "metadata": {},
   "source": [
    "Eso es lo básico sobre los Notebooks, ahora puedes empezar tranquilamente por el [primer capítulo](0_Intro.ipynb)."
   ]
  }
 ],
 "metadata": {
  "kernelspec": {
   "display_name": "Python 3",
   "language": "python",
   "name": "python3"
  },
  "language_info": {
   "codemirror_mode": {
    "name": "ipython",
    "version": 3
   },
   "file_extension": ".py",
   "mimetype": "text/x-python",
   "name": "python",
   "nbconvert_exporter": "python",
   "pygments_lexer": "ipython3",
   "version": "3.8.8"
  },
  "toc-autonumbering": false
 },
 "nbformat": 4,
 "nbformat_minor": 5
}
