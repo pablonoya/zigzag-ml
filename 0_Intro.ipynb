{
 "cells": [
  {
   "cell_type": "markdown",
   "metadata": {},
   "source": [
    "# ¡Un Problema salvaje aparece!\n",
    "Si una casa de 1.700 m$^2$ cuesta 220.000 y otra de 2.000 m$^2$ cuesta 250.000\n",
    "¿Cuánto costaría una de 1.500 m$^2$?"
   ]
  },
  {
   "cell_type": "markdown",
   "metadata": {
    "jupyter": {
     "source_hidden": true
    }
   },
   "source": [
    "Imagino que:  \n",
    "1. Miraste la **información**\n",
    "2. Encontraste una **regla** que puede darle sentido\n",
    "3. La usaste regla para responder\n",
    "\n",
    "¡Si así fue, actuaste como un programa de **machine learning**!"
   ]
  },
  {
   "cell_type": "markdown",
   "metadata": {},
   "source": [
    "# ¿Qué es machine learning?\n",
    "Machine learning, en español: *aprendizaje automático* o *aprendizaje de máquinas*, es una rama de la **inteligencia artificial**.\n",
    "\n",
    "Su objetivo es que las computadoras **aprendan de la experiencia** sin necesidad de ser **explícitamente programadas**."
   ]
  },
  {
   "cell_type": "markdown",
   "metadata": {
    "toc-hr-collapsed": true,
    "toc-nb-collapsed": true
   },
   "source": [
    "## ¿Explícitamente?\n",
    "Un programa clásico de computadora toma algunas **entradas** y una serie de **reglas** para obtener una **salida**.\n",
    "\n",
    "En cambio, un software de *Machine Learning* permite **inferir las reglas a partir de las entradas y salidas**.\n",
    "\n",
    "![programación clásica vs machine learning](img/0.1_classical_programming_vs_ml.png)\n",
    "\n",
    "Esta inferemcia abre la posibilidad de trabajar con las **reglas que enlazan las entradas y salidas** .  \n",
    "Usando nuevos datos podemos **predecir** nuevas respuestas 🤯"
   ]
  },
  {
   "cell_type": "markdown",
   "metadata": {},
   "source": [
    "# ¿Cómo logramos que la máquina aprenda esta regla?\n",
    "Necesitamos **datos** separados en dos grupos:\n",
    "\n",
    "- Las entradas serán las *features* o características.\n",
    "- Las salidas, *labels* o etiquetas. \n",
    "\n",
    "Los ingresamos a un algoritmo, y este \"entrenará\" un *model* o modelo para que **la máquina aprenda de los datos**, luego podemos usar el modelo entrenado ingresándole nuevas entradas para **predecir salidas** 😃."
   ]
  },
  {
   "cell_type": "markdown",
   "metadata": {},
   "source": [
    "# Demo time!\n",
    "Utilizando el lenguaje Python y el objeto [LinearRegression](https://scikit-learn.org/stable/modules/generated/sklearn.linear_model.LinearRegression.html) de scikit-learn, obtendremos un modelo para resolver el problema.  \n",
    "Haz click en la celda de abajo y presiona las teclas `shift + enter`"
   ]
  },
  {
   "cell_type": "code",
   "execution_count": null,
   "metadata": {},
   "outputs": [],
   "source": [
    "# importamos scikit-learn para el modelo de ML\n",
    "from sklearn.linear_model import LinearRegression\n",
    "# importamos Numpy para matemáticas\n",
    "import numpy as np\n",
    "\n",
    "features = np.array([1700, 2000])\n",
    "targets = np.array([220000, 250000])\n",
    "\n",
    "# sklearn espera un array 2D\n",
    "features = np.reshape(features, newshape=(-1, 1))\n",
    "\n",
    "# creamos y entrenamos el modelo\n",
    "model = LinearRegression()\n",
    "model.fit(features, targets)\n",
    "\n",
    "# lo usamos para predecir nuevos datos\n",
    "house_area = np.array(1400).reshape(1, -1)\n",
    "price = model.predict(house_area)\n",
    "\n",
    "print(f\"Una casa de {house_area}m2 cuesta {price}.\")"
   ]
  },
  {
   "cell_type": "markdown",
   "metadata": {},
   "source": [
    "## Sobre el cambio de shape\n",
    "Shape se refiere a las dimensiones de un array.  \n",
    "\n",
    "- Si tiene una dimensión, la shape es `(n,)` esta describe un array de *n* elementos.  \n",
    "- Si tenemos dos, la shape es `(n, m)` que cooresponde a una matriz de *n* filas, *m* columnas y *n x m* elementos.\n",
    "\n",
    "Nuestro array de features es una lista, pero sklearn espera que las features estén en 2D, como matriz.\n",
    "Si pasamos una lista, sklearn nos sugiere usar el método `reshape` de numpy con el argumento `newshape=(-1, 1)`\n",
    "\n",
    "El argumento -1 calculará el número faltante, si tenemos una lista de 10 elementos y usamos `newshape=(-1, 2)` tendremos una matriz de 2 columnas, ¿y cúantas filas?\n",
    "\n",
    "**5** filas, porque 5 x 2 = 10\n",
    "\n",
    "Al usar `(-1, 1)` tendremos una matriz de 1 sola columna:"
   ]
  },
  {
   "cell_type": "code",
   "execution_count": null,
   "metadata": {},
   "outputs": [],
   "source": [
    "# nuestra lista\n",
    "features = [1700, 2000]\n",
    "print(f\"Shape original {np.shape(features)}\")\n",
    "\n",
    "# features ahora es un np.array y cuenta con el atributo shape\n",
    "features = np.reshape(features, newshape=(-1, 1)) \n",
    "print(f\"Shape modificado {features.shape}\")\n",
    "print(\"\\nUn gran cambio 👍🏼\")"
   ]
  },
  {
   "cell_type": "markdown",
   "metadata": {},
   "source": [
    "# Juega con la demo\n",
    "Gracias a este entorno es posible experimentar con el código, prueba cambiar las features y targets para encontrar un nuevo modelo, y utilízalo para predecir nuevos datos 😉.  \n",
    "Recuerda que cada feature debe tener su target correspondiente, es decir, los arrays deben tener el mismo número de elementos."
   ]
  },
  {
   "cell_type": "markdown",
   "metadata": {},
   "source": [
    "# Datos, datos\n",
    "Las entradas son datos, las salidas también son datos, ¿algún otro dato que debamos conocer?\n",
    "\n",
    "¡Por supuesto!, muchos, muchos datos agrupados en lo que llamamos un *dataset* o conjunto de datos, aprenderemos a manejar datasets tabulares con [Pandas](1_Pandas.ipynb)"
   ]
  },
  {
   "cell_type": "markdown",
   "metadata": {},
   "source": [
    "# y = mx + b\n",
    "Esa es la ecuación de la recta, esta describe a nuestro modelo.\n",
    "\n",
    "- $m$ es la **pendiente*, mide qué tan inclinada está una recta.\n",
    "- $b$ es el **término independiente**, su valor es el punto en el que la recta corta el eje vertical de un plano.\n",
    "- $y$ es la variable **dependiente**.\n",
    "- $x$ es la variable **independiente**.\n",
    "\n",
    "Si la ecuación fuera $y = -\\frac{1}{2}x + 2$ la recta sería:  \n",
    "![recta](https://upload.wikimedia.org/wikipedia/commons/thumb/8/8f/Recta_gen%C3%A9rica.png/400px-Recta_gen%C3%A9rica.png)\n",
    "\n",
    "La relación de cada parámetro con el modelo sería:\n",
    "- $m$ es igual a `model.coef_[0]`\n",
    "- $b$ es igual a `model.intercept_`\n",
    "- $y$ equivale a `targets`\n",
    "- $x$ equivale a `features`\n",
    "\n",
    "Obtuvimos estos parámetros usando la regresión lineal, que trataremos en el [próximo capítulo](./2_hola_mundo.ipynb)."
   ]
  },
  {
   "cell_type": "markdown",
   "metadata": {},
   "source": [
    "<iframe id=\"preview-frame\" src=\"http://www.educaplus.org/web/games/../../html5/v2/mat_ecuarecta/ep.html\" scrolling=\"no\" class=\"game-iframe\" style=\"height: 430px;\" width=\"100%\" height=\"100%\" frameborder=\"0\"></iframe>"
   ]
  },
  {
   "cell_type": "code",
   "execution_count": null,
   "metadata": {},
   "outputs": [],
   "source": []
  }
 ],
 "metadata": {
  "kernelspec": {
   "display_name": "Python 3",
   "language": "python",
   "name": "python3"
  },
  "language_info": {
   "codemirror_mode": {
    "name": "ipython",
    "version": 3
   },
   "file_extension": ".py",
   "mimetype": "text/x-python",
   "name": "python",
   "nbconvert_exporter": "python",
   "pygments_lexer": "ipython3",
   "version": "3.7.7"
  },
  "toc-autonumbering": true,
  "toc-showcode": false,
  "toc-showmarkdowntxt": false,
  "toc-showtags": false
 },
 "nbformat": 4,
 "nbformat_minor": 4
}
