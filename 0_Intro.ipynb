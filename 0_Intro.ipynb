{
 "cells": [
  {
   "cell_type": "markdown",
   "metadata": {},
   "source": [
    "# ¡Un Problema salvaje aparece!\n",
    "Si una casa de 1.700 m$^2$ cuesta 220.000 y otra de 2.000 m$^2$ cuesta 250.000\n",
    "¿Cuánto costaría una de 1.500 m$^2$?"
   ]
  },
  {
   "cell_type": "markdown",
   "metadata": {
    "jupyter": {
     "source_hidden": true
    }
   },
   "source": [
    "Imagino que:  \n",
    "1. Miraste la **información**\n",
    "2. Encontraste una **regla** que puede darle sentido\n",
    "3. La usaste regla para responder\n",
    "\n",
    "¡Si así fue, actuaste como un programa de **machine learning**!"
   ]
  },
  {
   "cell_type": "markdown",
   "metadata": {},
   "source": [
    "# ¿Qué es machine learning?\n",
    "Machine learning, en español: **aprendizaje automático** o **aprendizaje de máquinas**, es una rama de la **inteligencia artificial**.\n",
    "\n",
    "Su objetivo es lograr que las computadoras **aprendan de la experiencia** sin necesidad de ser **explícitamente programadas** 👩🏻‍💻."
   ]
  },
  {
   "cell_type": "markdown",
   "metadata": {
    "toc-hr-collapsed": true,
    "toc-nb-collapsed": true
   },
   "source": [
    "## ¿Explícitamente?\n",
    "Un programa clásico de computadora toma algunas **entradas** y una serie de **reglas** para obtener una **salida**.\n",
    "\n",
    "En cambio, un software de *Machine Learning* permite **inferir las reglas a partir de las entradas y salidas**.\n",
    "\n",
    "![programación clásica vs machine learning](img/0.1_classical_programming_vs_ml.png)\n",
    "\n",
    "Esta inferencia abre la posibilidad de trabajar con las **reglas que enlazan las entradas y salidas** .  \n",
    "Usando **nuevos datos** podemos **predecir nuevas respuestas** 🤯"
   ]
  },
  {
   "cell_type": "markdown",
   "metadata": {},
   "source": [
    "# ¿Cómo logramos que la máquina aprenda esta regla?\n",
    "Necesitamos **datos** separados en dos grupos:\n",
    "\n",
    "- Las entradas serán las **_features_** o características.\n",
    "- Las salidas, **_labels_** o etiquetas. \n",
    "\n",
    "Los ingresamos a un algoritmo, y este \"entrenará\" un **_model_** o modelo que va a representar **el aprendizaje de máquina sobre los datos**, luego podemos usar este modelo entrenado ingresándole entradas que no vio antes para **predecir salidas** 😃."
   ]
  },
  {
   "cell_type": "markdown",
   "metadata": {},
   "source": [
    "# Demo time!\n",
    "Utilizando el lenguaje Python y el objeto [LinearRegression](https://scikit-learn.org/stable/modules/generated/sklearn.linear_model.LinearRegression.html) de la librería [scikit-learn](https://scikit-learn.org), obtendremos un modelo para resolver el problema. Esta librería tiene varias utilidades para machine learning\n",
    "Haz click en la celda de abajo y presiona las teclas `shift + enter`"
   ]
  },
  {
   "cell_type": "code",
   "execution_count": null,
   "metadata": {},
   "outputs": [],
   "source": [
    "# importamos scikit-learn para el modelo de ML\n",
    "from sklearn.linear_model import LinearRegression\n",
    "\n",
    "# importamos Numpy para matemáticas\n",
    "import numpy as np\n",
    "\n",
    "features = np.array([1700, 2000])\n",
    "targets = np.array([220000, 250000])\n",
    "\n",
    "# sklearn espera un array 2D\n",
    "features = np.reshape(features, newshape=(-1, 1))\n",
    "\n",
    "# creamos y entrenamos el modelo\n",
    "model = LinearRegression()\n",
    "model.fit(features, targets)\n",
    "\n",
    "# lo usamos para predecir nuevos datos\n",
    "house_area = np.array(1400).reshape(1, -1)\n",
    "price = model.predict(house_area)\n",
    "\n",
    "print(f\"Una casa de {house_area}m2 cuesta {price}.\")"
   ]
  },
  {
   "cell_type": "markdown",
   "metadata": {},
   "source": [
    "## Sobre el cambio de shape\n",
    "Shape, o forma, se refiere a las **dimensiones de un array**.  \n",
    "\n",
    "- Si tiene una dimensión, la shape es `(n,)` esta describe un array de *n* elementos.  \n",
    "- Si tenemos dos, la shape es `(n, m)` que cooresponde a una matriz de *n* filas, *m* columnas y *n x m* elementos.\n",
    "\n",
    "Nuestras **features están en un array**, esto es 1D, pero **sklearn espera que las features estén como una matriz** en 2D.\n",
    "Si pasamos una lista, sklearn nos sugiere usar el método `reshape` de numpy con el argumento `newshape=(-1, 1)`\n",
    "\n",
    "El argumento `-1` calculará el **número faltante**, si tenemos una lista de 10 elementos y usamos `newshape=(-1, 2)` tendremos una matriz de 2 columnas, ¿y cúantas filas?\n",
    "\n",
    "**5** filas, porque 5 x 2 = 10\n",
    "\n",
    "Al usar `(-1, 1)` tendremos una matriz de 1 sola columna:"
   ]
  },
  {
   "cell_type": "code",
   "execution_count": null,
   "metadata": {},
   "outputs": [],
   "source": [
    "# nuestra lista\n",
    "features = [1700, 2000]\n",
    "print(f\"Shape original {np.shape(features)}\")\n",
    "\n",
    "# features ahora es un np.array y cuenta con el atributo shape\n",
    "features = np.reshape(features, newshape=(-1, 1)) \n",
    "print(f\"Shape modificado {features.shape}\")\n",
    "print(\"\\nUn gran cambio 👍🏼\")"
   ]
  },
  {
   "cell_type": "markdown",
   "metadata": {},
   "source": [
    "# Juega con la demo\n",
    "Gracias a este entorno es posible experimentar con el código, prueba cambiar las features y targets para encontrar un nuevo modelo, y utilízalo para predecir nuevos datos 😉.  \n",
    "Recuerda que cada feature debe tener su target correspondiente, es decir, los arrays deben tener el mismo número de elementos."
   ]
  },
  {
   "cell_type": "markdown",
   "metadata": {},
   "source": [
    "# Datos, datos\n",
    "Las entradas son datos, las salidas también son datos, ¿pero qué tipo de datos necesitamos?\n",
    "\n",
    "Podemos empezar utilizando datos almacenados en una tabla, agrupados en lo que llamamos un *dataset* o conjunto de datos, aprenderemos a manejar datasets tabulares con [Pandas](1_Pandas.ipynb)"
   ]
  }
 ],
 "metadata": {
  "kernelspec": {
   "display_name": "Python 3",
   "language": "python",
   "name": "python3"
  },
  "language_info": {
   "codemirror_mode": {
    "name": "ipython",
    "version": 3
   },
   "file_extension": ".py",
   "mimetype": "text/x-python",
   "name": "python",
   "nbconvert_exporter": "python",
   "pygments_lexer": "ipython3",
   "version": "3.7.7"
  },
  "toc-autonumbering": true,
  "toc-showcode": false,
  "toc-showmarkdowntxt": false,
  "toc-showtags": false
 },
 "nbformat": 4,
 "nbformat_minor": 4
}
