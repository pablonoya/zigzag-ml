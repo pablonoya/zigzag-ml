{
 "cells": [
  {
   "cell_type": "markdown",
   "metadata": {},
   "source": [
    "# ¡Mira!, un problema:\n",
    "Si una casa de 1.700 m$^2$ cuesta 220.000 y otra de 2.000 m$^2$ cuesta 250.000\n",
    "¿Cuánto costaría una de 1.500 m$^2$?\n",
    "\n",
    "**...**\n",
    "\n",
    "Imagino que:  \n",
    "1. Miraste la **información**\n",
    "2. Encontraste una **regla** que le da sentido\n",
    "3. La usaste regla para responder\n",
    "\n",
    "¡Si así fue, actuaste como un programa de **machine learning**!"
   ]
  },
  {
   "cell_type": "markdown",
   "metadata": {},
   "source": [
    "# ¿Qué es machine learning?\n",
    "Machine learning, en español: *aprendizaje automático* o *aprendizaje de máquinas*, es un subcampo de estudio que forma parte de la **inteligencia artificial**.\n",
    "\n",
    "Su objetivo es que las computadoras *aprendan* de la **experiencia** sin ser **explícitamente programadas**."
   ]
  },
  {
   "cell_type": "markdown",
   "metadata": {
    "toc-hr-collapsed": true,
    "toc-nb-collapsed": true
   },
   "source": [
    "## ¿Explícitamente?\n",
    "Un programa clásico de computadora procesa una **entrada**, aplicando una serie de **reglas** para obtener una **salida**.\n",
    "\n",
    "En cambio, un algoritmo de *machine learning* permitirá obtener las **reglas** gracias a las **entradas** y **salidas**.\n",
    "\n",
    "![gráfico_aquí]()\n",
    "\n",
    "En el primer caso las reglas son explícitas, están bien definidas de antemano.  \n",
    "En el segundo, no :D  \n",
    "Las reglas que obtengamos dependerán de las ..."
   ]
  },
  {
   "cell_type": "markdown",
   "metadata": {
    "toc-hr-collapsed": true,
    "toc-nb-collapsed": true
   },
   "source": [
    "## Entradas y salidas\n",
    "Son la información, los **datos**.\n",
    "En nuestro problema, la entrada fue el área y la salida, el precio.\n",
    "\n",
    "Y la regla es **100 x área + 5000**, ¡pruébala!"
   ]
  },
  {
   "cell_type": "markdown",
   "metadata": {},
   "source": [
    "# ¿Cómo logramos que la máquina aprenda esta regla?\n",
    "Necesitamos datos, divididos en dos tipos: **feature** o característica y **target** o etiqueta, que corresponden a las entradas y salidas.  \n",
    "Ingresamos estos datos a un algoritmo, este entrenará un **model** o modelo para que aprenda de los datos.\n",
    "\n",
    "![gráfico_aquí?]"
   ]
  },
  {
   "cell_type": "markdown",
   "metadata": {},
   "source": [
    "# Demo time!\n",
    "Utilizando el lenguaje Python y el objeto [LinearRegression](https://scikit-learn.org/stable/modules/generated/sklearn.linear_model.LinearRegression.html) de scikit-learn, obtendremos un modelo para resolver el problema.  \n",
    "Haz click en la celda de abajo y presiona las teclas `shift + enter`"
   ]
  },
  {
   "cell_type": "code",
   "execution_count": null,
   "metadata": {},
   "outputs": [],
   "source": [
    "# importamos las librerías\n",
    "from sklearn.linear_model import LinearRegression\n",
    "# esta es para matemáticas\n",
    "import numpy as np\n",
    "\n",
    "features = [1700, 2000]\n",
    "targets = [220000, 250000]\n",
    "\n",
    "# sklearn espera un array 2D\n",
    "features = np.reshape(features, newshape=(-1, 1)) \n",
    "\n",
    "# creamos y entrenamos el modelo\n",
    "model = LinearRegression()\n",
    "model.fit(features, targets)\n",
    "\n",
    "print(f\"La regla del modelo es: {model.coef_[0] :.2f} * área + {model.intercept_ :.2f}\")"
   ]
  },
  {
   "cell_type": "markdown",
   "metadata": {},
   "source": [
    "## Sobre el cambio de shape\n",
    "Shape se refiere a las dimensiones de un array.  \n",
    "Si tiene una, digamos `(n,)` es una lista de *n* elementos.  \n",
    "Si tiene dos, digamos `(n, m)` es una matriz de *n* filas, *m* columnas y *n x m* elementos.\n",
    "\n",
    "Nuestro array de features es una lista, pero sklearn espera que las features estén en 2D, como matriz.\n",
    "Si pasamos una lista, sklearn nos sugiere usar el método `reshape` de numpy con el argumento `newshape=(-1, 1)`\n",
    "\n",
    "El argumento -1 calculará el número faltante, si tenemos una lista de 10 elementos y usamos `newshape=(-1, 2)` tendremos una matriz de 2 columnas, ¿y cúantas filas?\n",
    "\n",
    "**5** filas, pues 5 x 2 = 10\n",
    "\n",
    "Al usar `(-1, 1)^ tendremos una matriz de 1 sola columna:"
   ]
  },
  {
   "cell_type": "code",
   "execution_count": null,
   "metadata": {},
   "outputs": [],
   "source": [
    "# nuestra lista\n",
    "features = [1700, 2000]\n",
    "print(f\"Shape original {np.shape(features)}\")\n",
    "\n",
    "# features ahora es un np.array y cuenta con el atributo shape\n",
    "features = np.reshape(features, newshape=(-1, 1)) \n",
    "print(f\"Shape modificado {features.shape}\")\n",
    "print(\"\\nUn gran cambio\")"
   ]
  },
  {
   "cell_type": "markdown",
   "metadata": {},
   "source": [
    "## Juega con la demo\n",
    "Gracias a este entorno es posible experimentar con el código, prueba cambiar las features y targets para encontrar un nuevo modelo :D  \n",
    "Recuerda que cada feature debe tener su target correspondiente."
   ]
  },
  {
   "cell_type": "markdown",
   "metadata": {},
   "source": [
    "# y = mx + b\n",
    "Esa es la ecuación de la recta, esta describe a nuestro modelo.\n",
    "\n",
    "- $m$ es la **pendiente*, mide qué tan inclinada está una recta.\n",
    "- $b$ es el **término independiente**, su valor es el punto en el que la recta corta el eje vertical de un plano.\n",
    "- $y$ es la variable **dependiente**.\n",
    "- $x$ es la variable **independiente**.\n",
    "\n",
    "Si la ecuación fuera $y = -\\frac{1}{2}x + 2$ la recta sería:  \n",
    "![recta](https://upload.wikimedia.org/wikipedia/commons/thumb/8/8f/Recta_gen%C3%A9rica.png/400px-Recta_gen%C3%A9rica.png)\n",
    "\n",
    "La relación de cada parámetro con el modelo sería:\n",
    "- $m$ es igual a `model.coef_[0]`\n",
    "- $b$ es igual a `model.intercept_`\n",
    "- $y$ equivale a `targets`\n",
    "- $x$ equivale a `features`\n",
    "\n",
    "Obtuvimos estos parámetros usando la regresión lineal, que trataremos en el [próximo capítulo](./2_hola_mundo.ipynb)."
   ]
  },
  {
   "cell_type": "markdown",
   "metadata": {},
   "source": [
    "<iframe id=\"preview-frame\" src=\"http://www.educaplus.org/web/games/../../html5/v2/mat_ecuarecta/ep.html\" scrolling=\"no\" class=\"game-iframe\" style=\"height: 430px;\" width=\"100%\" height=\"100%\" frameborder=\"0\"></iframe>"
   ]
  },
  {
   "cell_type": "code",
   "execution_count": null,
   "metadata": {},
   "outputs": [],
   "source": []
  }
 ],
 "metadata": {
  "kernelspec": {
   "display_name": "Python 3",
   "language": "python",
   "name": "python3"
  },
  "language_info": {
   "codemirror_mode": {
    "name": "ipython",
    "version": 3
   },
   "file_extension": ".py",
   "mimetype": "text/x-python",
   "name": "python",
   "nbconvert_exporter": "python",
   "pygments_lexer": "ipython3",
   "version": "3.7.7"
  },
  "toc-autonumbering": false,
  "toc-showcode": false,
  "toc-showtags": false
 },
 "nbformat": 4,
 "nbformat_minor": 4
}
