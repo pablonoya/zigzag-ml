{
 "cells": [
  {
   "cell_type": "markdown",
   "metadata": {},
   "source": [
    "# Gráficos\n",
    "Este notebook contendrá el código usado para generar... gráficos"
   ]
  },
  {
   "cell_type": "code",
   "execution_count": null,
   "metadata": {
    "jupyter": {
     "source_hidden": true
    },
    "tags": []
   },
   "outputs": [],
   "source": [
    "from matplotlib.patches import Ellipse\n",
    "\n",
    "colors = [\"red\", \"orange\", \"yellow\", \"lightgreen\", \"cyan\", \"navy\"]\n",
    "\n",
    "ell = [Ellipse((19.85, 6.17), 37-7*i, 5-i/1.04, angle=2, fc=\"white\", ec=colors[i])\n",
    "       for i in range(6)]\n",
    "a = plt.subplot(111)\n",
    "\n",
    "for e in ell:\n",
    "    a.add_artist(e)\n",
    "\n",
    "plt.xlim(0, 39.5)\n",
    "plt.ylim(2.2, 10)\n",
    "plt.xlabel(\"LSTAT\")\n",
    "plt.ylabel(\"RM\")\n",
    "\n",
    "\n",
    "plt.savefig(path + \"5.1.4_features_unscaled.png\", bbox_inches=\"tight\")"
   ]
  }
 ],
 "metadata": {
  "kernelspec": {
   "display_name": "Python 3",
   "language": "python",
   "name": "python3"
  },
  "language_info": {
   "codemirror_mode": {
    "name": "ipython",
    "version": 3
   },
   "file_extension": ".py",
   "mimetype": "text/x-python",
   "name": "python",
   "nbconvert_exporter": "python",
   "pygments_lexer": "ipython3",
   "version": "3.8.8"
  }
 },
 "nbformat": 4,
 "nbformat_minor": 4
}
