{
 "cells": [
  {
   "cell_type": "markdown",
   "metadata": {},
   "source": [
    "# Clasificación Binaria\n",
    "Respondamos a la pregunta del capítulo anterior, marcando la columna \"Species\" con **1** en el caso de **Iris-setosa** y **0** de lo contrario.  \n",
    "Esta es una **nueva tarea** o *task*, en la cual buscamos **distinguir si un ejemplo pertenece o no a una determinada clase**. \n",
    "\n",
    "Podemos utilizar una **condición en una columna** del DataFrame, la de \"Species\" en este caso,  el resultado será un objeto [Series](https://pandas.pydata.org/pandas-docs/stable/reference/api/pandas.Series.html) de pandas con valores **verdero-falso** en las **filas** que cumplan la condición."
   ]
  },
  {
   "cell_type": "code",
   "execution_count": null,
   "metadata": {},
   "outputs": [],
   "source": [
    "import pandas as pd\n",
    "\n",
    "data = pd.read_csv(\"datasets/Iris.csv\")\n",
    "\n",
    "# mantenemos los datos en la variable original\n",
    "df = data.drop(columns=\"Id\")\n",
    "\n",
    "is_setosa = df[\"Species\"] == \"Iris-setosa\"\n",
    "is_setosa"
   ]
  },
  {
   "cell_type": "markdown",
   "metadata": {},
   "source": [
    "Ahora **reemplazamos la columna** por esta variable, convertida a **enteros** usando el método `astype`.   \n",
    "\n",
    "Las primeras o últimas filas nos mostrarán sólo valores de 1, porque el dataset está ordenado según las especies y Setosa es la primera.  \n",
    "Tomemos una **muestra** de cinco valores al azar con el método `sample` para verificar que existen valores enteros 😄. "
   ]
  },
  {
   "cell_type": "code",
   "execution_count": null,
   "metadata": {},
   "outputs": [],
   "source": [
    "df['Species'] = is_setosa.astype(int)\n",
    "df.sample(5)"
   ]
  },
  {
   "cell_type": "markdown",
   "metadata": {},
   "source": [
    "## Clasificación Binaria\n",
    "La prediciión se limita a **dos** valores, el término \"binario\" se debe a ello.  \n",
    "Veamos la **relación** entre el **ancho del sépalo** con nuestro **target**:"
   ]
  },
  {
   "cell_type": "code",
   "execution_count": null,
   "metadata": {},
   "outputs": [],
   "source": [
    "import matplotlib.pyplot as plt\n",
    "\n",
    "plt.scatter(df['SepalWidthCm'], df['Species'])\n",
    "plt.xlabel(\"Ancho del sépalo\")\n",
    "plt.ylabel(\"¿Es setosa?\")"
   ]
  },
  {
   "cell_type": "markdown",
   "metadata": {},
   "source": [
    "Ajustar una **recta** no bastaría, deja muchos puntos fuera ☹.\n",
    "\n",
    "Veamos si una **curva** lo hace mejor, podemos usar **Series** o **DataFrames** en nuestro modelo, pero deben estar en 2D porque sklearn espera que así sea. El mismo truco de seleccionar usando una **lista con una sola columna** funciona 😉"
   ]
  },
  {
   "cell_type": "code",
   "execution_count": null,
   "metadata": {},
   "outputs": [],
   "source": [
    "import numpy as np\n",
    "from sklearn.model_selection import train_test_split\n",
    "\n",
    "np.random.seed(42)\n",
    "\n",
    "# datos\n",
    "X, y = df['SepalWidthCm'], df['Species']\n",
    "X_train, X_test, y_train, y_test = train_test_split(X.values.reshape(-1, 1), y, test_size=0.2)"
   ]
  },
  {
   "cell_type": "markdown",
   "metadata": {},
   "source": [
    "Ahora toca entrenar, **elige cualquier modelo** de los que vimos para **regresión lineal**.  \n",
    "También debes **transformar** las features a **polinomiales**, te sugiero usar un **grado** mayor a 2"
   ]
  },
  {
   "cell_type": "code",
   "execution_count": null,
   "metadata": {},
   "outputs": [],
   "source": [
    "from sklearn.linear_model import LinearRegression\n",
    "from sklearn.preprocessing import PolynomialFeatures\n",
    "\n",
    "# modelo\n",
    "poly = PolynomialFeatures(degree=4, include_bias=False)\n",
    "X_train_poly = poly.fit_transform(X_train)\n",
    "\n",
    "model = LinearRegression()\n",
    "model.fit(X_train_poly, y_train)"
   ]
  },
  {
   "cell_type": "markdown",
   "metadata": {},
   "source": [
    "Veamos los resultados, toma en cuenta que `X_train` es un DataFrame, por esto tiene sus propios métodos `min` y `max` "
   ]
  },
  {
   "cell_type": "code",
   "execution_count": null,
   "metadata": {},
   "outputs": [],
   "source": [
    "# gráfica\n",
    "xpoints = np.linspace(X_train.min(), X_train.max(), num=40)\n",
    "xpoints_poly = poly.transform(xpoints.reshape(-1, 1))\n",
    "ypoints = model.predict(xpoints_poly)\n",
    "\n",
    "plt.scatter(X_train, y_train, color='gray')\n",
    "plt.plot(xpoints, ypoints)\n",
    "plt.xlabel(\"Ancho del sépalo\")\n",
    "plt.ylabel(\"¿Es setosa?\")"
   ]
  },
  {
   "cell_type": "markdown",
   "metadata": {},
   "source": [
    "Por mucho que incrementemos el grado no llegaremos a una curva convincente, al menos no con un modelo lineal 🤔."
   ]
  },
  {
   "cell_type": "markdown",
   "metadata": {},
   "source": [
    "# Sigmoide\n",
    "Exi**S**te una curva que encaja muy bien con este problema, tiene forma de **S** y va en un rango de 0 a 1, justo lo que necesitamos, aunque **nunca llega exactamente a 0 o 1**, su fórmula es:\n",
    "\n",
    " $\\sigma(x) = \\dfrac{1}{1 + e^{-x}}$\n",
    "\n",
    "Donde $\\sigma$ es la letra *sigma*, $e$ es el [número e](https://es.wikipedia.org/wiki/N%C3%BAmero_e), y $x$ es un punto cualquiera, podría ser de nuestra **feature** o un rango de valores.  \n",
    "Definamos esto último para graficarla 😉."
   ]
  },
  {
   "cell_type": "code",
   "execution_count": null,
   "metadata": {},
   "outputs": [],
   "source": [
    "xpoints = np.linspace(-10, 10, num=50)\n",
    "\n",
    "# np.exp(x) equivale a e^x\n",
    "ypoints = 1 / (1 + np.exp(-xpoints))\n",
    "\n",
    "plt.plot(xpoints, ypoints)\n",
    "plt.xlabel('x')\n",
    "plt.ylabel('sigma(x)')"
   ]
  },
  {
   "cell_type": "markdown",
   "metadata": {},
   "source": [
    "Ahora tenemos una curva que bien podría ajustarse a los datos, si la utilizamos tenemos un **nuevo modelo** conocido como..."
   ]
  },
  {
   "cell_type": "markdown",
   "metadata": {},
   "source": [
    "# Regresión Logística\n",
    "Nuevo objetivo:  hallar la **sigmoide** que mejor se **ajuste** a los datos cambiando los ¿parámetros?\n",
    "\n",
    "La sigmoide no tiene **parámetros** que podamos ajustar, por lo que **primero definimos una regresión lineal** guardando los resultados en una variable:\n",
    "\n",
    "$z = X\\theta$\n",
    "\n",
    "Entonces, le aplicamos una **transformación no lineal**, la **sigmoide**:  \n",
    "$\\hat{y} = \\sigma(z)$\n",
    "\n",
    "> Esta idea será muy importante más adelante 😉. \n",
    "\n",
    "Por último, definiremos un **umbral**, pongamos 0.5. Si $\\sigma(z)$ es **mayor al umbral**, la predicción será **1** y será **0 de lo contrario**.\n",
    "\n",
    "De todo esto se encargará `LogisticRegressor` de sklearn, pero este modelo espera que `y` sea **1D** asi que convertiremos este **DataFrame** a un **array de numpy** y le aplicaremos `reshape` a una sola dimensión."
   ]
  },
  {
   "cell_type": "code",
   "execution_count": null,
   "metadata": {},
   "outputs": [],
   "source": [
    "from sklearn.linear_model import LogisticRegression\n",
    "\n",
    "model_logistic = LogisticRegression()\n",
    "model_logistic.fit(X_train, y_train)\n",
    "\n",
    "xpoints = np.linspace(X_train.min(), X_train.max(), num=50)\n",
    "ypoints = model_logistic.predict(xpoints.reshape(-1, 1))\n",
    "\n",
    "plt.scatter(X_train, y_train, color=\"gray\")\n",
    "plt.plot(xpoints, ypoints)\n",
    "plt.xlabel(\"Ancho del sépalo\")\n",
    "plt.ylabel(\"¿Es setosa?\")"
   ]
  },
  {
   "cell_type": "markdown",
   "metadata": {
    "tags": []
   },
   "source": [
    "Muy bien, quizá demasiado bien... porque sklearn retorna un **número entero, 0 o 1** por defecto.\n",
    "\n",
    "Por cierto, el nombre viene de la **logística** que maquinamos para lograr la clasificación binaria 😎  \n",
    "$\\cdots$\n",
    "\n",
    "No, en realidad viene de la función [logit](https://es.wikipedia.org/wiki/Logit) que es la base para su **función de costo**:\n",
    "\n",
    "$J(\\theta) = -y\\ log(\\hat{y}) + (1-y)\\ log(1 - \\hat{y})$\n",
    "\n",
    "Esta expresión encierra nuestras **dos posibles respuestas**, nota que tienen complementos en forma de $(1-y)$.\n",
    "\n",
    "Si $y=0$ tenemos:  \n",
    "$-0\\ log(\\hat{y}) - (1-0)\\ log(1 - \\hat{y})$  \n",
    "$= -log(1 - \\hat{y})$\n",
    "\n",
    "Si $y=1$ tenemos:  \n",
    "$\\ -log(\\hat{y})$"
   ]
  },
  {
   "cell_type": "markdown",
   "metadata": {
    "tags": []
   },
   "source": [
    "Grafiquemos ambas en un rango de 0 a 1, pero **no exactamente 0 o 1**"
   ]
  },
  {
   "cell_type": "code",
   "execution_count": null,
   "metadata": {
    "tags": []
   },
   "outputs": [],
   "source": [
    "yhatpoints = np.linspace(0.001, 0.999, num=75)\n",
    "\n",
    "fig, (ax1, ax2) = plt.subplots(1, 2, sharey=True, figsize=(12, 5))\n",
    "# fig.ylabel(\"Costo\")\n",
    "plt.suptitle(\"Comparación de respuestas\")\n",
    "\n",
    "ax1.plot(yhatpoints, -np.log(yhatpoints))\n",
    "ax2.plot(yhatpoints, -np.log(1 - yhatpoints), 'orange')\n",
    "\n",
    "ax1.set(xlabel=\"y_hat\", ylabel=\"Costo\", title=\"y=1\")\n",
    "ax2.set(xlabel=\"y_hat\", ylabel=\"Costo\", title=\"y=0\")\n",
    "\n",
    "plt.show()"
   ]
  },
  {
   "cell_type": "markdown",
   "metadata": {
    "tags": []
   },
   "source": [
    "Para el caso línea **y = 1**, tenemos menor costo si **la predicción se acerca a 1**, porque nos acercaríamos a la respuesta correcta.  \n",
    "Para el otro caso, tenemos la situación contraria siendo **menor el costo cuando la predicción es 0**.\n",
    "\n",
    "Recuerda que **sólo una de las funciones** es utilizada, **dependiendo del valor de y**, nuestro label.\n",
    "\n",
    "Nota que la función es **más empinada cuanto mayor sea el **costo**, esto significa que **penaliza más las respuestas incorrectas**, además es **convexa** pues sólo tiene un mínimo 😃"
   ]
  },
  {
   "cell_type": "markdown",
   "metadata": {},
   "source": [
    "$$y \\hat{y}$$"
   ]
  },
  {
   "cell_type": "markdown",
   "metadata": {
    "tags": []
   },
   "source": [
    "# Respondiendo la pregunta\n",
    "Para responder mejor, entrena el modelo con **todas** las features, **completa el código** 😃"
   ]
  },
  {
   "cell_type": "code",
   "execution_count": null,
   "metadata": {
    "tags": []
   },
   "outputs": [],
   "source": [
    "# todas las features\n",
    "X = df.iloc[:, :-1]\n",
    "\n",
    "y = df['___']\n",
    "\n",
    "X_train, ___, y_train, ___ = train_test_split(X, y, test_size=0.2)\n",
    "\n",
    "model = Log___\n",
    "model.fit(___, ___)\n",
    "\n",
    "# ¿es setosa u otra cosa?\n",
    "model.predict([[5.81, 3.05, 4.9, 2.11]])"
   ]
  },
  {
   "cell_type": "markdown",
   "metadata": {
    "tags": []
   },
   "source": [
    "# Evaluando\n",
    "Como tenemos sólo dos posibles respuestas, desearemos ver el **porcentaje de veces que el modelo acertó** la respuesta correcta.\n",
    "\n",
    "Esto se conoce como **exactitud** y utilizando la función `accuracy_score` lo podemos calcular en un rango de 0 a 1, representando la escala de 0 a 100%."
   ]
  },
  {
   "cell_type": "code",
   "execution_count": null,
   "metadata": {
    "tags": []
   },
   "outputs": [],
   "source": [
    "from sklearn.metrics import accuracy_score\n",
    "\n",
    "y_hat = model.predict(X_test)\n",
    "accuracy_score(y_hat, y_test)"
   ]
  },
  {
   "cell_type": "markdown",
   "metadata": {
    "tags": []
   },
   "source": [
    "La exactitud es **engañosa**, no te fíes sólo en esta métrica 🤨 en especial para **datasets no balanceados**."
   ]
  },
  {
   "cell_type": "markdown",
   "metadata": {
    "tags": []
   },
   "source": [
    "## Datasets no balanceados\n",
    "Para algunos datasets pueden ser difícil **conseguir etiquetas positivas y negativas una proporción similar**, veamos un clásico ejemplo:  \n",
    "Quieres detectar **si hubo o no algún fraude** en transacciones bancarias, pero resulta que la mayoría de transaccciones **no son fraudulentas** (o eso espero 😅).\n",
    "\n",
    "Este simple modelo puede **alcanzar gran exactitud**:"
   ]
  },
  {
   "cell_type": "code",
   "execution_count": null,
   "metadata": {
    "tags": []
   },
   "outputs": [],
   "source": [
    "class modelin():\n",
    "    def predict(X):\n",
    "        return [False] * len(X)"
   ]
  },
  {
   "cell_type": "markdown",
   "metadata": {
    "tags": []
   },
   "source": [
    "Supongamos que solo el **10%** de tu test set tiene **transacciones fraudulentas**, evaluemos a modelín:"
   ]
  },
  {
   "cell_type": "code",
   "execution_count": null,
   "metadata": {
    "tags": []
   },
   "outputs": [],
   "source": [
    "test_features = np.random.randn(10)\n",
    "test_targets = [0, 0, 1, 0, 0, 0, 0, 0, 0, 0]\n",
    "\n",
    "pred_targets = modelin.predict(test_features)\n",
    "accuracy_score(pred_targets, test_targets)"
   ]
  },
  {
   "cell_type": "markdown",
   "metadata": {
    "tags": []
   },
   "source": [
    "¡Genial!, modelín detecta el fraude con un **90%** de preci... por eso digo que es **engañosa** ☹\n",
    "\n",
    "Pero la idea base se mantiene saber el **porcentaje de aciertos y fallas** entre la **predicción** del modelo y las **respuestas**, con esta idea podemos **distinguir cuatro casos**:\n",
    "\n",
    "+ La respuesta es 1 el modelo predijo 1 😄\n",
    "+ La respuesta era 1 el modelo predice 0 ☹\n",
    "+ Respuesta real 0, modelo predice 0 😄\n",
    "+ Respuesta 0, modelo predice 1 ☹\n",
    "\n",
    "Un poco... **confuso**, ¿verdad?"
   ]
  },
  {
   "cell_type": "markdown",
   "metadata": {
    "tags": []
   },
   "source": [
    "## Matriz de Confusión\n",
    "Podemos agrupar los casos en una matriz de dos filas y dos columnas de 0 y 1:\n",
    "\n",
    "![conf](./img/7.5.2_confussion_matrix.png)\n",
    "\n",
    "**Positivo** o **negativo** nos indicará la respuesta **predicha**, y será **verdadera si es igual a la respuesta y falsa de lo contrario**. La matriz puede verse diferente según la fuente que consultes, esta gráfica coincide con la matriz que genera sklearn pero los conceptos siempre se mantendrán.\n",
    "\n",
    "Usaremos los términos en inglés, pero sólo con sus iniciales: *True Positive* será **TP**, *False Negative* será **FN**, etc.\n",
    "\n",
    "Las celdas de la matriz contienen la **cantidad de cada caso**, por esto la **suma de todas las celdas es igual al total de datos** en el conjunto que usamos para calcularla, el cual debería ser el *test set*.\n",
    "\n",
    "Con la matriz podemos calcular dos métricas que se **compensan** entre sí."
   ]
  },
  {
   "cell_type": "markdown",
   "metadata": {
    "tags": []
   },
   "source": [
    "### Precision\n",
    "Cuya fórmula es:\n",
    "\n",
    "$precision = \\dfrac{TP}{TP + FP}$\n",
    "\n",
    "Sólo toma en cuenta **positivos, reales y predichos**, para responder la pregunta:  \n",
    "> De todos los positivos, ¿cuántos lo son realmente?  \n",
    "\n",
    "Esto es util para reducir falsos positivos, mientras menos sean, más alta será la precision.  \n",
    "En el caso de la detección de fraudes, un ejemplo sería:\n",
    "> El modelo predijo que sí hubo fraude, pero no lo hubo."
   ]
  },
  {
   "cell_type": "markdown",
   "metadata": {
    "tags": []
   },
   "source": [
    "### Recall\n",
    "Cuya fórmula es:\n",
    "\n",
    "$recall = \\dfrac{TP}{TP + FN}$\n",
    "\n",
    "Y toma en cuenta la **fila** de **positivos reales** para preguntar:\n",
    "> ¿Cuántos positivos fueron predichos correctamente?\n",
    "\n",
    "Es util para minimizar un FN:\n",
    "> El modelo predijo que no hubo fraude, pero sí lo hubo."
   ]
  },
  {
   "cell_type": "markdown",
   "metadata": {
    "tags": []
   },
   "source": [
    "Como ambos se compensan, debemos elegir cuál **penalizar más** para reducirlo.  \n",
    "> ¿Es peor dar una **falsa alarma** o **dejar pasar** un fraude?\n",
    "\n",
    "Podemos calcular todo lo visto usando `confusion_matrix`, `precision_score` y `recall_score` de `sklearn.metrics`"
   ]
  },
  {
   "cell_type": "code",
   "execution_count": null,
   "metadata": {
    "tags": []
   },
   "outputs": [],
   "source": [
    "from sklearn.metrics import confusion_matrix, precision_score, recall_score\n",
    "\n",
    "print(confusion_matrix(test_targets, pred_targets))\n",
    "\n",
    "print(\"Precision:\", precision_score(test_targets, pred_targets))\n",
    "print(\"Recall:\", recall_score(test_targets, pred_targets))"
   ]
  },
  {
   "cell_type": "markdown",
   "metadata": {
    "tags": []
   },
   "source": [
    "Tenemos una advertencia por la división entre 0 porque ¡no tenemos **ningún positivo**!, mirando la matriz de confusión podemos intuir que algo anda mal 👀."
   ]
  },
  {
   "cell_type": "markdown",
   "metadata": {
    "tags": []
   },
   "source": [
    "### F1 Score\n",
    "Quizá alguna vez nos interese encontrar un **balance entre precision y recall**, podemos calcular esto usando la métrica `f1_score` cuya fórmula es:\n",
    "\n",
    "$F1 = 2*\\dfrac{precision*recall}{precision+recall}$"
   ]
  },
  {
   "cell_type": "markdown",
   "metadata": {
    "tags": []
   },
   "source": [
    "# Ejercicios\n",
    "Evalúa nuestro **modelo de iris setosa**, comienza obteniendo la **matriz de confusión** 😄"
   ]
  },
  {
   "cell_type": "code",
   "execution_count": null,
   "metadata": {
    "tags": []
   },
   "outputs": [],
   "source": [
    "# evalúa sobre el test set\n"
   ]
  },
  {
   "cell_type": "markdown",
   "metadata": {},
   "source": [
    "Obtén las métricas de precision, recall y f1 score usando sklearn"
   ]
  },
  {
   "cell_type": "code",
   "execution_count": null,
   "metadata": {},
   "outputs": [],
   "source": [
    "# importa f1_score\n"
   ]
  },
  {
   "cell_type": "markdown",
   "metadata": {
    "tags": []
   },
   "source": [
    "Como pudimos ver, la clasificación es un mundo un poco distinto, pues tuvimos que añadir una nueva función que transformación no lineal a nuestra recta 😱.\n",
    "\n",
    "Pero este **tipo de tarea** no acaba aquí, también podemos distinguir entre [varias clases](9_Clasificacion_multiclase.ipynb)."
   ]
  }
 ],
 "metadata": {
  "kernelspec": {
   "display_name": "Python 3",
   "language": "python",
   "name": "python3"
  },
  "language_info": {
   "codemirror_mode": {
    "name": "ipython",
    "version": 3
   },
   "file_extension": ".py",
   "mimetype": "text/x-python",
   "name": "python",
   "nbconvert_exporter": "python",
   "pygments_lexer": "ipython3",
   "version": "3.8.8"
  },
  "toc-autonumbering": true
 },
 "nbformat": 4,
 "nbformat_minor": 4
}
