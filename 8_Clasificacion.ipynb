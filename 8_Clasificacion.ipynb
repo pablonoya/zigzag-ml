{
 "cells": [
  {
   "cell_type": "markdown",
   "metadata": {},
   "source": [
    "# Clasificación\n",
    "Respondamos a la pregunta del capítulo anterior, marcando la columna \"Species\" con **1** en el caso de **Iris-setosa** y **0** de lo contrario.\n",
    "\n",
    "Podemos utilizar una **condición en una columna** del DataFrame, la de \"Species\" en este caso,  el resultado será un objeto [Series](https://pandas.pydata.org/pandas-docs/stable/reference/api/pandas.Series.html) de pandas con valores **verdero-falso** en las **filas** que cumplan la condición."
   ]
  },
  {
   "cell_type": "code",
   "execution_count": 1,
   "metadata": {},
   "outputs": [
    {
     "data": {
      "text/plain": [
       "0       True\n",
       "1       True\n",
       "2       True\n",
       "3       True\n",
       "4       True\n",
       "       ...  \n",
       "145    False\n",
       "146    False\n",
       "147    False\n",
       "148    False\n",
       "149    False\n",
       "Name: Species, Length: 150, dtype: bool"
      ]
     },
     "execution_count": 1,
     "metadata": {},
     "output_type": "execute_result"
    }
   ],
   "source": [
    "import pandas as pd\n",
    "\n",
    "data = pd.read_csv(\"datasets/Iris.csv\")\n",
    "\n",
    "# mantenemos los datos en la variable original\n",
    "df = data.drop(columns=\"Id\")\n",
    "\n",
    "is_setosa = df[\"Species\"] == \"Iris-setosa\"\n",
    "is_setosa"
   ]
  },
  {
   "cell_type": "markdown",
   "metadata": {},
   "source": [
    "Ahora **reemplazamos la columna** por esta variable, convertida a **enteros** usando el método `astype`.   \n",
    "\n",
    "Las primeras o últimas filas nos mostrarán sólo valores de 1, porque el dataset está ordenado según las especies y Setosa es la primera.  \n",
    "Tomemos una **muestra** de cinco valores al azar con el método `sample` para verificar que existen valores enteros 😄. "
   ]
  },
  {
   "cell_type": "code",
   "execution_count": 3,
   "metadata": {},
   "outputs": [
    {
     "data": {
      "text/html": [
       "<div>\n",
       "<style scoped>\n",
       "    .dataframe tbody tr th:only-of-type {\n",
       "        vertical-align: middle;\n",
       "    }\n",
       "\n",
       "    .dataframe tbody tr th {\n",
       "        vertical-align: top;\n",
       "    }\n",
       "\n",
       "    .dataframe thead th {\n",
       "        text-align: right;\n",
       "    }\n",
       "</style>\n",
       "<table border=\"1\" class=\"dataframe\">\n",
       "  <thead>\n",
       "    <tr style=\"text-align: right;\">\n",
       "      <th></th>\n",
       "      <th>SepalLengthCm</th>\n",
       "      <th>SepalWidthCm</th>\n",
       "      <th>PetalLengthCm</th>\n",
       "      <th>PetalWidthCm</th>\n",
       "      <th>Species</th>\n",
       "    </tr>\n",
       "  </thead>\n",
       "  <tbody>\n",
       "    <tr>\n",
       "      <th>104</th>\n",
       "      <td>6.5</td>\n",
       "      <td>3.0</td>\n",
       "      <td>5.8</td>\n",
       "      <td>2.2</td>\n",
       "      <td>0</td>\n",
       "    </tr>\n",
       "    <tr>\n",
       "      <th>100</th>\n",
       "      <td>6.3</td>\n",
       "      <td>3.3</td>\n",
       "      <td>6.0</td>\n",
       "      <td>2.5</td>\n",
       "      <td>0</td>\n",
       "    </tr>\n",
       "    <tr>\n",
       "      <th>125</th>\n",
       "      <td>7.2</td>\n",
       "      <td>3.2</td>\n",
       "      <td>6.0</td>\n",
       "      <td>1.8</td>\n",
       "      <td>0</td>\n",
       "    </tr>\n",
       "    <tr>\n",
       "      <th>5</th>\n",
       "      <td>5.4</td>\n",
       "      <td>3.9</td>\n",
       "      <td>1.7</td>\n",
       "      <td>0.4</td>\n",
       "      <td>1</td>\n",
       "    </tr>\n",
       "    <tr>\n",
       "      <th>39</th>\n",
       "      <td>5.1</td>\n",
       "      <td>3.4</td>\n",
       "      <td>1.5</td>\n",
       "      <td>0.2</td>\n",
       "      <td>1</td>\n",
       "    </tr>\n",
       "  </tbody>\n",
       "</table>\n",
       "</div>"
      ],
      "text/plain": [
       "     SepalLengthCm  SepalWidthCm  PetalLengthCm  PetalWidthCm  Species\n",
       "104            6.5           3.0            5.8           2.2        0\n",
       "100            6.3           3.3            6.0           2.5        0\n",
       "125            7.2           3.2            6.0           1.8        0\n",
       "5              5.4           3.9            1.7           0.4        1\n",
       "39             5.1           3.4            1.5           0.2        1"
      ]
     },
     "execution_count": 3,
     "metadata": {},
     "output_type": "execute_result"
    }
   ],
   "source": [
    "df['Species'] = is_setosa.astype(int)\n",
    "df.sample(5)"
   ]
  },
  {
   "cell_type": "markdown",
   "metadata": {},
   "source": [
    "## Clasificación Binaria\n",
    "La prediciión se limita a **dos** valores, el término \"binario\" se debe a ello.  \n",
    "Veamos la **relación** entre el **ancho del sépalo** con nuestro **target**:"
   ]
  },
  {
   "cell_type": "code",
   "execution_count": 4,
   "metadata": {},
   "outputs": [
    {
     "data": {
      "text/plain": [
       "Text(0, 0.5, '¿Es setosa?')"
      ]
     },
     "execution_count": 4,
     "metadata": {},
     "output_type": "execute_result"
    },
    {
     "data": {
      "image/png": "[encoded data removed]",
      "text/plain": [
       "<Figure size 432x288 with 1 Axes>"
      ]
     },
     "metadata": {
      "needs_background": "light"
     },
     "output_type": "display_data"
    }
   ],
   "source": [
    "import matplotlib.pyplot as plt\n",
    "\n",
    "plt.scatter(df['SepalWidthCm'], df['Species'])\n",
    "plt.xlabel(\"Ancho del sépalo\")\n",
    "plt.ylabel(\"¿Es setosa?\")"
   ]
  },
  {
   "cell_type": "markdown",
   "metadata": {},
   "source": [
    "Ajustar una **recta** no bastaría, deja muchos puntos fuera ☹.\n",
    "\n",
    "Veamos si una **curva** lo hace mejor, podemos usar **Series** o **DataFrames** en nuestro modelo, pero deben estar en 2D porque sklearn espera que así sea. El mismo truco de seleccionar usando una **lista con una sola columna** funciona 😉"
   ]
  },
  {
   "cell_type": "code",
   "execution_count": 21,
   "metadata": {},
   "outputs": [],
   "source": [
    "import numpy as np\n",
    "from sklearn.model_selection import train_test_split\n",
    "\n",
    "np.random.seed(42)\n",
    "\n",
    "# datos\n",
    "X, y = df['SepalWidthCm'], df['Species']\n",
    "X_train, X_test, y_train, y_test = train_test_split(X.values.reshape(-1, 1), y, test_size=0.2)"
   ]
  },
  {
   "cell_type": "markdown",
   "metadata": {},
   "source": [
    "Ahora toca entrenar, **elige cualquier modelo** de los que vimos para **regresión lineal**.  \n",
    "También debes **transformar** las features a **polinomiales**, te sugiero usar un **grado** mayor a 2"
   ]
  },
  {
   "cell_type": "code",
   "execution_count": 22,
   "metadata": {},
   "outputs": [
    {
     "data": {
      "text/plain": [
       "LinearRegression()"
      ]
     },
     "execution_count": 22,
     "metadata": {},
     "output_type": "execute_result"
    }
   ],
   "source": [
    "from sklearn.linear_model import LinearRegression\n",
    "from sklearn.preprocessing import PolynomialFeatures\n",
    "\n",
    "# modelo\n",
    "poly = PolynomialFeatures(degree=4, include_bias=False)\n",
    "X_train_poly = poly.fit_transform(X_train)\n",
    "\n",
    "model = LinearRegression()\n",
    "model.fit(X_train_poly, y_train)"
   ]
  },
  {
   "cell_type": "markdown",
   "metadata": {},
   "source": [
    "Veamos los resultados, toma en cuenta que `X_train` es un DataFrame, por esto tiene sus propios métodos `min` y `max` "
   ]
  },
  {
   "cell_type": "code",
   "execution_count": 23,
   "metadata": {},
   "outputs": [
    {
     "data": {
      "text/plain": [
       "Text(0, 0.5, '¿Es setosa?')"
      ]
     },
     "execution_count": 23,
     "metadata": {},
     "output_type": "execute_result"
    },
    {
     "data": {
      "image/png": "[encoded data removed]",
      "text/plain": [
       "<Figure size 432x288 with 1 Axes>"
      ]
     },
     "metadata": {
      "needs_background": "light"
     },
     "output_type": "display_data"
    }
   ],
   "source": [
    "# gráfica\n",
    "xpoints = np.linspace(X_train.min(), X_train.max(), num=40)\n",
    "xpoints_poly = poly.transform(xpoints.reshape(-1, 1))\n",
    "ypoints = model.predict(xpoints_poly)\n",
    "\n",
    "plt.scatter(X_train, y_train, color='gray')\n",
    "plt.plot(xpoints, ypoints)\n",
    "plt.xlabel(\"Ancho del sépalo\")\n",
    "plt.ylabel(\"¿Es setosa?\")"
   ]
  },
  {
   "cell_type": "markdown",
   "metadata": {},
   "source": [
    "Por mucho que incrementemos el grado no llegaremos a una curva convincente, al menos no con un modelo lineal 🤔."
   ]
  },
  {
   "cell_type": "markdown",
   "metadata": {},
   "source": [
    "## Sigmoide\n",
    "Exi**s**te una curva que encaja muy bien con este problema, tiene forma de **S** y va en un rango de 0 a 1, justo lo que necesitamos, aunquer **nunca llega exactamente a 0 o 1**, su fórmula es:\n",
    "\n",
    " $\\sigma(x) = \\dfrac{1}{1 + e^{-x}}$\n",
    "\n",
    "Donde $\\sigma$ es la letra *sigma*, $e$ es el [número e](https://es.wikipedia.org/wiki/N%C3%BAmero_e), y $x$ es un punto cualquiera, podría ser de nuestra **feature** o un rango de valores.  \n",
    "Definamos esto último para graficarla 😉."
   ]
  },
  {
   "cell_type": "code",
   "execution_count": 24,
   "metadata": {},
   "outputs": [
    {
     "data": {
      "text/plain": [
       "Text(0, 0.5, 'sigma(x)')"
      ]
     },
     "execution_count": 24,
     "metadata": {},
     "output_type": "execute_result"
    },
    {
     "data": {
      "image/png": "[encoded data removed]",
      "text/plain": [
       "<Figure size 432x288 with 1 Axes>"
      ]
     },
     "metadata": {
      "needs_background": "light"
     },
     "output_type": "display_data"
    }
   ],
   "source": [
    "xpoints = np.linspace(-10, 10, num=50)\n",
    "\n",
    "# np.exp(x) equivale a e^x\n",
    "ypoints = 1 / (1 + np.exp(-xpoints))\n",
    "\n",
    "plt.plot(xpoints, ypoints)\n",
    "plt.xlabel('x')\n",
    "plt.ylabel('sigma(x)')"
   ]
  },
  {
   "cell_type": "markdown",
   "metadata": {},
   "source": [
    "Ahora tenemos una curva que bien podría ajustarse a los datos, si la utilizamos tenemos un **nuevo modelo** conocido como..."
   ]
  },
  {
   "cell_type": "markdown",
   "metadata": {},
   "source": [
    "## Regresión Logística\n",
    "Nuevo objetivo:  hallar la **sigmoide** que mejor se **ajuste** a los datos cambiando los ¿parámetros?\n",
    "\n",
    "La sigmoide no tiene **parámetros** que podamos ajustar, por lo que **primero definimos una regresión lineal** guardando los resultados en una variable:\n",
    "\n",
    "$z = X\\theta$\n",
    "\n",
    "Entonces, le aplicamos la **sigmoide**:  \n",
    "$\\hat{y} = \\sigma(z)$\n",
    "\n",
    "Esta idea será muy importante más adelante 😉. \n",
    "\n",
    "Por último, definiremos un **umbral**, pongamos 0.5. Si $\\sigma(z)$ es **mayor al umbral**, la predicción será **1** y será **0 de lo contrario**.\n",
    "\n",
    "De todo esto se encargará `LogisticRegressor` de sklearn, pero este modelo espera que `y` sea **1D** asi que convertiremos este **DataFrame** a un **array de numpy** y le aplicaremos `reshape` a una sola dimensión."
   ]
  },
  {
   "cell_type": "code",
   "execution_count": 32,
   "metadata": {},
   "outputs": [
    {
     "name": "stderr",
     "output_type": "stream",
     "text": [
      "/home/pablo/ml/anaconda3/envs/zzml/lib/python3.8/site-packages/sklearn/utils/validation.py:63: DataConversionWarning: A column-vector y was passed when a 1d array was expected. Please change the shape of y to (n_samples, ), for example using ravel().\n",
      "  return f(*args, **kwargs)\n"
     ]
    },
    {
     "data": {
      "text/plain": [
       "Text(0, 0.5, '¿Es setosa?')"
      ]
     },
     "execution_count": 32,
     "metadata": {},
     "output_type": "execute_result"
    },
    {
     "data": {
      "image/png": "[encoded data removed]",
      "text/plain": [
       "<Figure size 432x288 with 1 Axes>"
      ]
     },
     "metadata": {
      "needs_background": "light"
     },
     "output_type": "display_data"
    }
   ],
   "source": [
    "from sklearn.linear_model import LogisticRegression\n",
    "\n",
    "model_logistic = LogisticRegression()\n",
    "model_logistic.fit(X_train, y_train.values.reshape(-1, 1))\n",
    "\n",
    "xpoints = np.linspace(X_train.min(), X_train.max(), num=50)\n",
    "ypoints = model_logistic.predict(xpoints.reshape(-1, 1))\n",
    "\n",
    "plt.scatter(X_train, y_train, color=\"gray\")\n",
    "plt.plot(xpoints, ypoints)\n",
    "plt.xlabel(\"Ancho del sépalo\")\n",
    "plt.ylabel(\"¿Es setosa?\")"
   ]
  },
  {
   "cell_type": "markdown",
   "metadata": {},
   "source": [
    "Sección en construcción 👷"
   ]
  },
  {
   "cell_type": "markdown",
   "metadata": {
    "jupyter": {
     "source_hidden": true
    },
    "tags": []
   },
   "source": [
    "Muy bien, quizá demasiado bien... pero es porque sklearn retorna un resultado **entero** por defecto.\n",
    "\n",
    "Por cierto, el nombre viene de la **logística** que maquinamos para lograr la clasificación binaria 😎  \n",
    "$\\cdots$\n",
    "\n",
    "No, en realidad viene de la función [logit](https://es.wikipedia.org/wiki/Logit) que es la base para su **función de costo**:\n",
    "\n",
    "$J(\\theta) = -y\\ log(\\hat{y}) + (1-y)\\ log(1 - \\hat{y})$\n",
    "\n",
    "Esta expresión encierra nuestras **dos** posibles **respuestas**, nota que tienen complementos en forma de $(1-y)$.\n",
    "\n",
    "Si $y=0$ tenemos:  \n",
    "$-0\\ log(\\hat{y}) - (1-0)\\ log(1 - \\hat{y})$  \n",
    "$= -log(1 - \\hat{y})$\n",
    "\n",
    "Si $y=1$ tenemos:  \n",
    "$\\ -log(\\hat{y})$"
   ]
  },
  {
   "cell_type": "markdown",
   "metadata": {
    "jupyter": {
     "source_hidden": true
    },
    "tags": []
   },
   "source": [
    "Grafiquemos ambas en un rango de 0 a 1, pero **no exactamente 0 o 1**"
   ]
  },
  {
   "cell_type": "code",
   "execution_count": 33,
   "metadata": {
    "collapsed": true,
    "jupyter": {
     "outputs_hidden": true,
     "source_hidden": true
    },
    "tags": []
   },
   "outputs": [
    {
     "data": {
      "text/plain": [
       "<matplotlib.legend.Legend at 0x7f6df62dabb0>"
      ]
     },
     "execution_count": 33,
     "metadata": {},
     "output_type": "execute_result"
    },
    {
     "data": {
      "image/png": "[encoded data removed]",
      "text/plain": [
       "<Figure size 432x288 with 1 Axes>"
      ]
     },
     "metadata": {
      "needs_background": "light"
     },
     "output_type": "display_data"
    }
   ],
   "source": [
    "xpoints = np.linspace(0.01, 0.99, num=50)\n",
    "\n",
    "plt.plot(xpoints, -np.log(1 - xpoints), label=\"y = 0\")\n",
    "plt.plot(xpoints, -np.log(xpoints), label=\"y = 1\")\n",
    "plt.xlabel(\"ye sombrerito\")\n",
    "plt.ylabel(\"Costo\")\n",
    "\n",
    "plt.legend(loc=\"center\")"
   ]
  },
  {
   "cell_type": "markdown",
   "metadata": {
    "jupyter": {
     "source_hidden": true
    },
    "tags": []
   },
   "source": [
    "Para la línea **y = 0**, tenemos menor costo si nos **acercamos a 0**, pues tambien nos acercaríamos a la respuesta correcta.\n",
    "\n",
    "Para el otro caso, tenemos la situación contraria siendo **menor** el costo **cerca a 1**.\n",
    "\n",
    "Recuerda que **sólo una de las funciones** es utilizada, dependiendo del **valor de y**.\n",
    "\n",
    "Nota que la función es más **empinada** cuanto **mayor** sea el **costo**, esto significa que **penaliza** más las respuestas **incorrectas**, además es **convexa** pues sólo tiene un mínimo 😃"
   ]
  },
  {
   "cell_type": "markdown",
   "metadata": {
    "jupyter": {
     "source_hidden": true
    },
    "tags": []
   },
   "source": [
    "## Respondiendo la pregunta\n",
    "Para responder mejor, entrena el modelo con **todas** las features, **completa el código** 😃"
   ]
  },
  {
   "cell_type": "code",
   "execution_count": null,
   "metadata": {
    "jupyter": {
     "source_hidden": true
    },
    "tags": []
   },
   "outputs": [],
   "source": [
    "# todas las features\n",
    "X = df.iloc[:, :-1]\n",
    "\n",
    "y = df['___']\n",
    "\n",
    "X_train, ___, y_train, ___ = train_test_split(X, y, test_size=0.2)\n",
    "\n",
    "model = Lo___\n",
    "model.fit(___, ___)\n",
    "\n",
    "# ¿es setosa u otra cosa?\n",
    "model.predict([[5.81, 3.05, 4.9, 2.11]])"
   ]
  },
  {
   "cell_type": "markdown",
   "metadata": {
    "jupyter": {
     "source_hidden": true
    },
    "tags": []
   },
   "source": [
    "## Evaluando\n",
    "Como tenemos sólo dos posibles respuestas, desearemos ver cuántas veces **acertamos**, más bien, el **porcentaje de aciertos**.\n",
    "\n",
    "Esto se conoce como **exactitud** y usando `accuracy_score` lo sabremos en un rango de 0 a 1, esta vez **sí** exactamente 0 o 1."
   ]
  },
  {
   "cell_type": "code",
   "execution_count": null,
   "metadata": {
    "jupyter": {
     "source_hidden": true
    },
    "tags": []
   },
   "outputs": [],
   "source": [
    "from sklearn.metrics import accuracy_score\n",
    "\n",
    "y_hat = model.predict(X_test)\n",
    "accuracy_score(y_hat, y_test)"
   ]
  },
  {
   "cell_type": "markdown",
   "metadata": {
    "jupyter": {
     "source_hidden": true
    },
    "tags": []
   },
   "source": [
    "La exactitud es **engañosa**, no te fíes sólo de ella 😄 en especial en **datasets no balanceados**.\n",
    "\n",
    "Para algunos datasets pueden ser difícil conseguir casos en la una **proporción similar**, un clásico ejemplo:  \n",
    "Quieres detectar si hubo **fraude** en transacciones bancarias, pero la mayoría **no son fraudulentas** (o eso espero)\n",
    "\n",
    "Este simple modelo puede **alcanzar gran exactitud**:"
   ]
  },
  {
   "cell_type": "code",
   "execution_count": null,
   "metadata": {
    "jupyter": {
     "source_hidden": true
    },
    "tags": []
   },
   "outputs": [],
   "source": [
    "class modelin():\n",
    "    def predict(X):\n",
    "        return [False] * len(X)"
   ]
  },
  {
   "cell_type": "markdown",
   "metadata": {
    "jupyter": {
     "source_hidden": true
    },
    "tags": []
   },
   "source": [
    "Supongamos que solo el **10%** de tu test set tiene **transacciones fraudulentas**, evaluemos a modelín:"
   ]
  },
  {
   "cell_type": "code",
   "execution_count": null,
   "metadata": {
    "jupyter": {
     "source_hidden": true
    },
    "tags": []
   },
   "outputs": [],
   "source": [
    "test_features = np.random.randn(10)\n",
    "test_targets = [0, 0, 1, 0, 0, 0, 0, 0, 0, 0]\n",
    "\n",
    "pred_targets = modelin.predict(test_set)\n",
    "accuracy_score(pred_targets, test_targets)"
   ]
  },
  {
   "cell_type": "markdown",
   "metadata": {
    "jupyter": {
     "source_hidden": true
    },
    "tags": []
   },
   "source": [
    "¡Genial!, modelín detecta el fraude con un **90%** de ...por eso digo que es **engañosa** ☹\n",
    "\n",
    "Pero la idea base se mantiene saber la **cantidad de aciertos y fallas** entre la **predicción** del modelo y las **respuestas**, con esto podemos construir **cuatro casos**:\n",
    "\n",
    "+ La respuesta es 1 el modelo predijo 1 😄\n",
    "+ La respuesta era 1 el modelo predice 0 ☹\n",
    "+ Respuesta real 0, modelo predice 0 😄\n",
    "+ Respuesta 0, modelo predice 1 ☹\n",
    "\n",
    "Un poco... **confuso**, ¿verdad?"
   ]
  },
  {
   "cell_type": "markdown",
   "metadata": {
    "jupyter": {
     "source_hidden": true
    },
    "tags": []
   },
   "source": [
    "### Matriz de Confusión\n",
    "Podemos agrupar los casos en una matriz de dos filas y dos columnas de 0 y 1:\n",
    "\n",
    "![conf](./img/7.5_confussion_matrix.png)\n",
    "\n",
    "**Positivo** o **negativo** nos indicará la respuesta **predicha**, y será **verdadero** o **falso** si es o no **igual a la real**.  \n",
    "Usaremos los términos en inglés, pero sólo con sus iniciales: *True Positive* será **TP**, *False Negative*, **FN**.\n",
    "\n",
    "Las celdas de la matriz contienen la **cantidad de cada caso**, por esto la **suma** de todas las celdas resulta en el **total** de datos que usamos para calcularla.\n",
    "\n",
    "Con la matriz podemos calcular dos métricas que se **compensan** entre sí."
   ]
  },
  {
   "cell_type": "markdown",
   "metadata": {
    "jupyter": {
     "source_hidden": true
    },
    "tags": []
   },
   "source": [
    "### Precision\n",
    "Cuya fórmula es:\n",
    "\n",
    "$precision = \\dfrac{TP}{TP + FP}$\n",
    "\n",
    "Sólo toma en cuenta **positivos, reales y predichos**, para responder la pregunta:  \n",
    "> De todos los positivos, ¿cuántos lo son realmente?  \n",
    "\n",
    "Esto es util para reducir falsos positivos, mientras menos sean, más alta será la precision.  \n",
    "En nuestro caso, un FP sería:\n",
    "> El modelo predijo que sí hubo fraude, pero no lo hubo."
   ]
  },
  {
   "cell_type": "markdown",
   "metadata": {
    "jupyter": {
     "source_hidden": true
    },
    "tags": []
   },
   "source": [
    "### Recall\n",
    "Cuya fórmula es:\n",
    "\n",
    "$recall = \\dfrac{TP}{TP + FN}$\n",
    "\n",
    "Y toma en cuenta la **fila** de **positivos reales** para preguntar:\n",
    "> ¿Cuántos positivos fueron predichos correctamente?\n",
    "\n",
    "Es util para minimizar un FN:\n",
    "> El modelo predijo que no hubo fraude, pero sí lo hubo."
   ]
  },
  {
   "cell_type": "markdown",
   "metadata": {
    "jupyter": {
     "source_hidden": true
    },
    "tags": []
   },
   "source": [
    "Como ambos se compensan, debemos elegir cuál **penalizar más** para reducirlo.  \n",
    "> ¿Es peor dar una **falsa alarma** o **dejar pasar** un fraude?\n",
    "\n",
    "Podemos calcular todo lo visto usando `confusion_matrix`, `precision_score` y `recall_score`"
   ]
  },
  {
   "cell_type": "code",
   "execution_count": null,
   "metadata": {
    "jupyter": {
     "source_hidden": true
    },
    "tags": []
   },
   "outputs": [],
   "source": [
    "from sklearn.metrics import confusion_matrix, precision_score, recall_score\n",
    "\n",
    "print(confusion_matrix(test_targets, pred_targets))\n",
    "\n",
    "print(\"Precision:\", precision_score(test_targets, pred_targets))\n",
    "print(\"Recall:\", recall_score(test_targets, pred_targets))"
   ]
  },
  {
   "cell_type": "markdown",
   "metadata": {
    "jupyter": {
     "source_hidden": true
    },
    "tags": []
   },
   "source": [
    "Tenemos una advertencia por la división entre 0, ¡no tenemos **ningún** positivo! y sólo mirando la matriz de confusión podemos intuir \"algo anda mal\".\n",
    "\n",
    "Quizá alguna vez nos interese encontrar un **balance entre precision y recall**, podemos calcular esto usando `f1_score` cuya fórmula es:\n",
    "\n",
    "$F1 = 2*\\dfrac{precision*recall}{precision+recall}$"
   ]
  },
  {
   "cell_type": "markdown",
   "metadata": {
    "jupyter": {
     "source_hidden": true
    },
    "tags": []
   },
   "source": [
    "### Evalua el modelo\n",
    "Te animo a que evalues nuestro **modelo de iris setosa**, comienza mirando la **matriz de confusión** 😄"
   ]
  },
  {
   "cell_type": "code",
   "execution_count": null,
   "metadata": {
    "jupyter": {
     "source_hidden": true
    },
    "tags": []
   },
   "outputs": [],
   "source": [
    "from sklearn.metrics import f1_score\n",
    "\n",
    "y_hat = model.predict(X_test)\n",
    "\n",
    "confusion_matrix(y_hat, )\n",
    "\n",
    "# precision_score()\n",
    "# recall_score()\n",
    "# f1_score()"
   ]
  },
  {
   "cell_type": "markdown",
   "metadata": {
    "jupyter": {
     "source_hidden": true
    },
    "tags": []
   },
   "source": [
    "Como pudimos ver, la clasificación es un mundo un poco distinto, pero seguimos dentro del **aprendizaje supervisado** porque tenemos features y targets.\n",
    "\n",
    "Y no acaba aquí, también podemos distinguir entre [varias clases](8_clasificacion_multiclase)."
   ]
  }
 ],
 "metadata": {
  "kernelspec": {
   "display_name": "Python 3",
   "language": "python",
   "name": "python3"
  },
  "language_info": {
   "codemirror_mode": {
    "name": "ipython",
    "version": 3
   },
   "file_extension": ".py",
   "mimetype": "text/x-python",
   "name": "python",
   "nbconvert_exporter": "python",
   "pygments_lexer": "ipython3",
   "version": "3.8.8"
  },
  "toc-autonumbering": false
 },
 "nbformat": 4,
 "nbformat_minor": 4
}
