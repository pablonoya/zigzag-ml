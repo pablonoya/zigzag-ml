{
 "cells": [
  {
   "cell_type": "markdown",
   "metadata": {},
   "source": [
    "# Preprocesamiento de datos\n",
    "En el mundo real, los datos que obtengamos pueden ser erróneos porque estarán incompletos, duplicados o no se podrán usar como tal (machine learning usa sólo **números**)  \n",
    "\n",
    "Veremos cómo afrontar cada situación con el dataset [Iris Dataset](https://www.kaggle.com/uciml/iris) de kaggle,  está en formato .csv cuyo nombre viene de *Comma Separated Values* o Valores Separados por Comas.\n",
    "\n",
    "En realidad es sólo texto plano que representa a una tabla. La primera fila tiene los nombres de columnas, separados por comas, y las filas restantes, los valores que corresponden, separados por comas.\n",
    "\n",
    "Cargaremos el archivo usando el método `read_csv` librería `pandas` 🐼  esto resultará en un objeto DataFrame, cuyo el método head nos permite ver las primeras filas de este."
   ]
  },
  {
   "cell_type": "code",
   "execution_count": null,
   "metadata": {},
   "outputs": [],
   "source": [
    "import pandas as pd\n",
    "\n",
    "dataframe = pd.read_csv('./datasets/Iris_mod.csv')\n",
    "dataframe.head()"
   ]
  },
  {
   "cell_type": "markdown",
   "metadata": {},
   "source": [
    "Como puedes ver, tenemos un dataset con las medidas de largo y ancho del sépalo y el pétalo de una flor de iris, cuya especie se menciona en la última columna.\n",
    "\n",
    "También tenemos la columna Id pero no es necesaria, podemos eliminarla con el método `drop` que recibe una lista de las columnas a eliminar."
   ]
  },
  {
   "cell_type": "code",
   "execution_count": null,
   "metadata": {},
   "outputs": [],
   "source": [
    "dataframe = dataframe.drop(columns=['Id'])"
   ]
  },
  {
   "cell_type": "markdown",
   "metadata": {},
   "source": [
    "¿Cuántas especies tenemos? usemos la función `nunique` para contar los valores únicos de esa columna, podemos acceder a ella como en un diccionario."
   ]
  },
  {
   "cell_type": "code",
   "execution_count": null,
   "metadata": {},
   "outputs": [],
   "source": [
    "dataframe['Species'].nunique()"
   ]
  },
  {
   "cell_type": "markdown",
   "metadata": {},
   "source": [
    "Esto **ignora** los valores **nulos**, para ver cuántos son usamos el método `isnull` que nos devuelve True o False si algún dato es **nulo**, veamos las primeras filas usando `head`"
   ]
  },
  {
   "cell_type": "code",
   "execution_count": null,
   "metadata": {},
   "outputs": [],
   "source": [
    "dataframe.isnull().head()"
   ]
  },
  {
   "cell_type": "markdown",
   "metadata": {},
   "source": [
    "Pero sería más util tener el total de nulos, para esto sumaremos cada columna pues cada True contará como 1 y cada False como 0"
   ]
  },
  {
   "cell_type": "code",
   "execution_count": null,
   "metadata": {},
   "outputs": [],
   "source": [
    "dataframe.isnull().sum()"
   ]
  },
  {
   "cell_type": "markdown",
   "metadata": {},
   "source": [
    "## Valores nulos\n",
    "Tenemos exactamente un valor nulo en cada columna ¿Concidencia?  \n",
    "No, en realidad modifiqué el dataset con propósitos educativos 😄 añadí una fila de nulos que podemos verla usando `tail`"
   ]
  },
  {
   "cell_type": "code",
   "execution_count": null,
   "metadata": {},
   "outputs": [],
   "source": [
    "dataframe.tail(2)"
   ]
  },
  {
   "cell_type": "markdown",
   "metadata": {},
   "source": [
    "Estos aparecen como **NaN** siglas de *Not a Number* o **No es un Número**, para tratarlos podemos **eliminar** las **filas** o **columnas** que contengan algún nulo o **reemplazarlos** con la **media** o la **moda** de su columna.\n",
    "\n",
    "Antes de intentar cualquiera crearemos una **copia** de nuestro dataframe usando `copy` para preservar el original, si no usas copy sólo tendrás una referencia al objeto original."
   ]
  },
  {
   "cell_type": "code",
   "execution_count": null,
   "metadata": {},
   "outputs": [],
   "source": [
    "df = dataframe.copy()"
   ]
  },
  {
   "cell_type": "markdown",
   "metadata": {},
   "source": [
    "### Eliminar filas\n",
    "Es recomendable cuando tenemos muchos datos y pocos nulos, pues no perdemos demasiada información.\n",
    "\n",
    "Usaremos el método `dropna` que recibe el parámetro `axis` o eje, que corresponde con la dimensión, `0` o `'index'` en el caso de las **filas**."
   ]
  },
  {
   "cell_type": "code",
   "execution_count": null,
   "metadata": {},
   "outputs": [],
   "source": [
    "df = df.dropna(axis=0)\n",
    "df.tail()"
   ]
  },
  {
   "cell_type": "markdown",
   "metadata": {},
   "source": [
    "### Eliminar columnas\n",
    "La usamos si esta no es importante o tenemos muchos nulos, pues no podíamos recuperar información.\n",
    "\n",
    "Sólo cambiamos`axis` a `1` o `'columns'` para el caso de las **columnas**."
   ]
  },
  {
   "cell_type": "code",
   "execution_count": null,
   "metadata": {},
   "outputs": [],
   "source": [
    "df = dataframe.copy()\n",
    "df = df.dropna('columns')\n",
    "df.tail()"
   ]
  },
  {
   "cell_type": "markdown",
   "metadata": {},
   "source": [
    "$\\cdots$  \n",
    "Recuerda siempre que **un sólo nulo basta**  para eliminar **toda** la fila o columna 😉"
   ]
  },
  {
   "cell_type": "markdown",
   "metadata": {},
   "source": [
    "### Reemplazar con la media\n",
    "La media es el promedio de la columna, por supuesto sólo funciona con los valores numéricos, por esto no seleccionaremos la columna **Species** usando `iloc` esto nos permite seleccionar por indices al estilo de numpy, y podemos usar slices."
   ]
  },
  {
   "cell_type": "code",
   "execution_count": null,
   "metadata": {},
   "outputs": [],
   "source": [
    "# todas las filas, de la primera a la penúltima columna\n",
    "df = dataframe.iloc[:, :-1]\n",
    "df.tail(3)"
   ]
  },
  {
   "cell_type": "markdown",
   "metadata": {},
   "source": [
    "sklearn tiene el objeto `SimpleImputer` para reemplazar valores, nulos por defecto, debemos indicarle la `strategy` o estrategia para reemplazar los valores. "
   ]
  },
  {
   "cell_type": "code",
   "execution_count": null,
   "metadata": {},
   "outputs": [],
   "source": [
    "from sklearn.impute import SimpleImputer\n",
    "\n",
    "df = dataframe.iloc[:, :-1]\n",
    "imp = SimpleImputer(strategy='mean')\n",
    "\n",
    "df_inputed_mean = imp.fit_transform(df)\n",
    "df_inputed_mean[-1]"
   ]
  },
  {
   "cell_type": "markdown",
   "metadata": {},
   "source": [
    "Podemos comprobar que sean los valores correctos usando el método `mean`"
   ]
  },
  {
   "cell_type": "code",
   "execution_count": null,
   "metadata": {},
   "outputs": [],
   "source": [
    "df.mean()"
   ]
  },
  {
   "cell_type": "markdown",
   "metadata": {},
   "source": [
    "### Reemplazar con la moda\n",
    "La moda es el valor que más se repite, usaremos también `SimpleImputer` cambiando la `strategy`"
   ]
  },
  {
   "cell_type": "code",
   "execution_count": null,
   "metadata": {},
   "outputs": [],
   "source": [
    "df = dataframe.copy()\n",
    "\n",
    "imp = SimpleImputer(strategy='most_frequent')\n",
    "\n",
    "df_inputed_mode = imp.fit_transform(df)\n",
    "df_inputed_mode[-1]"
   ]
  },
  {
   "cell_type": "markdown",
   "metadata": {},
   "source": [
    "Y podemos comprobarlo con `mode`"
   ]
  },
  {
   "cell_type": "code",
   "execution_count": null,
   "metadata": {},
   "outputs": [],
   "source": [
    "df.mode()"
   ]
  },
  {
   "cell_type": "markdown",
   "metadata": {},
   "source": [
    "El dataset tiene 50 filas de las 3 especies, `SimpleImputer` sólo tomó la primera que encontró"
   ]
  },
  {
   "cell_type": "markdown",
   "metadata": {},
   "source": [
    "## Valores no numéricos\n",
    "Para tratarlos es necesario codificarlos, podríamos asignar 1, 2 o 3 a cada especie, pero esto implica que hay un patrón u orden escondido, el modelo podría entender algo así: 3 > 2 > 1.\n",
    "\n",
    "En su lugar debemos indicar que son valores de diferente **categoría** con un código que indica algo como\n",
    "> Iris setosa y no otra cosa\n",
    "\n",
    "Tendremos **una columna por categoría**, marcando 1 a la que pertenece y 0 a las demás, esto se conoce como **One-hot encoding** y podemos obtenerla con el método `get_dummies` de pandas 🐼"
   ]
  },
  {
   "cell_type": "code",
   "execution_count": null,
   "metadata": {},
   "outputs": [],
   "source": [
    "df_one_hot = pd.get_dummies(df)\n",
    "df_one_hot.head()"
   ]
  },
  {
   "cell_type": "markdown",
   "metadata": {},
   "source": [
    "Por defecto actuará con todos los valores con el \"dtype\" (data type) `object`, pero puedes tener un dataset con categorías en forma de números, asegurate de informarte sobre las features del dataset, podrías encontrar la información en la [fuente](https://www.kaggle.com/uciml/iris) del dataset.\n",
    "\n",
    "Puedes verificar los `dtypes` de cada columna con ese atributo:"
   ]
  },
  {
   "cell_type": "code",
   "execution_count": null,
   "metadata": {},
   "outputs": [],
   "source": [
    "df.dtypes"
   ]
  },
  {
   "cell_type": "markdown",
   "metadata": {},
   "source": [
    "También podemos usar `OneHotEncoder` de sklearn, pero sólo enviaremos las columnas que queramos transformar y no admite que los datos tengan valores nulos.  \n",
    "Por defecto retorna una [matriz dispersa](https://es.wikipedia.org/wiki/Matriz_dispersa) pero podemos cambiarlo cambiando el parámetro `sparse` a falso."
   ]
  },
  {
   "cell_type": "code",
   "execution_count": null,
   "metadata": {},
   "outputs": [],
   "source": [
    "from sklearn.preprocessing import OneHotEncoder\n",
    "\n",
    "# sólo la última columna\n",
    "df_species = df_inputed_mode[:, [-1]]\n",
    "\n",
    "one_hot = OneHotEncoder(sparse=False)\n",
    "df_one_hot = one_hot.fit_transform(df_species)\n",
    "df_one_hot[:5]"
   ]
  },
  {
   "cell_type": "markdown",
   "metadata": {},
   "source": [
    "Si tuviéramos sólo 2 categorías no es necesario agregar 2 columnas, 0 y 1 ya indican la presencia o no de la feature."
   ]
  },
  {
   "cell_type": "markdown",
   "metadata": {},
   "source": [
    "Con todo lo aprendido ya vamos dominando las bases del machine learning 😉\n",
    "Es más, ahora la máquina puede aprender para **distinguir** categorías o **clases**.\n",
    "\n",
    "Ten las medídas de sépalo, pétalo y dime ¿es setosa u otra cosa?  \n",
    "$\\cdots$\n",
    "\n",
    "Responderá, cuando aprenda [clasificación](7_clasificacion.ipynb)."
   ]
  }
 ],
 "metadata": {
  "kernelspec": {
   "display_name": "Python 3",
   "language": "python",
   "name": "python3"
  },
  "language_info": {
   "codemirror_mode": {
    "name": "ipython",
    "version": 3
   },
   "file_extension": ".py",
   "mimetype": "text/x-python",
   "name": "python",
   "nbconvert_exporter": "python",
   "pygments_lexer": "ipython3",
   "version": "3.7.7"
  }
 },
 "nbformat": 4,
 "nbformat_minor": 4
}
